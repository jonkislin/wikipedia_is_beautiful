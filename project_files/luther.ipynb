{
 "cells": [
  {
   "cell_type": "markdown",
   "metadata": {},
   "source": [
    "## Project Luther\n",
    "\n",
    "Welcome to my project notebook! I've tried to keep things organized.  \n",
    "Please note that the cells in the Article Info scraping section are not meant to be run.  \n",
    "Please start at section 1.4: \"Importing and Cleaning the Data.\"\n",
    "\n",
    "Written wholly in Python 3.6.3. Thanks for reading!"
   ]
  },
  {
   "cell_type": "markdown",
   "metadata": {
    "toc": true
   },
   "source": [
    "<h1>Table of Contents<span class=\"tocSkip\"></span></h1>\n",
    "<div class=\"toc\" style=\"margin-top: 1em;\"><ul class=\"toc-item\"><li><ul class=\"toc-item\"><li><span><a href=\"#Project-Luther\" data-toc-modified-id=\"Project-Luther-0.1\"><span class=\"toc-item-num\">0.1&nbsp;&nbsp;</span>Project Luther</a></span><ul class=\"toc-item\"><li><span><a href=\"#Setup\" data-toc-modified-id=\"Setup-0.1.1\"><span class=\"toc-item-num\">0.1.1&nbsp;&nbsp;</span>Setup</a></span></li><li><span><a href=\"#Project-Description-and-Data-Sources\" data-toc-modified-id=\"Project-Description-and-Data-Sources-0.1.2\"><span class=\"toc-item-num\">0.1.2&nbsp;&nbsp;</span>Project Description and Data Sources</a></span><ul class=\"toc-item\"><li><span><a href=\"#Ideas\" data-toc-modified-id=\"Ideas-0.1.2.1\"><span class=\"toc-item-num\">0.1.2.1&nbsp;&nbsp;</span>Ideas</a></span></li><li><span><a href=\"#General-Wiki-page-Stats\" data-toc-modified-id=\"General-Wiki-page-Stats-0.1.2.2\"><span class=\"toc-item-num\">0.1.2.2&nbsp;&nbsp;</span>General Wiki-page Stats</a></span></li></ul></li><li><span><a href=\"#Article-Info-scraping\" data-toc-modified-id=\"Article-Info-scraping-0.1.3\"><span class=\"toc-item-num\">0.1.3&nbsp;&nbsp;</span>Article Info scraping</a></span></li><li><span><a href=\"#Importing-and-Cleaning-the-Data\" data-toc-modified-id=\"Importing-and-Cleaning-the-Data-0.1.4\"><span class=\"toc-item-num\">0.1.4&nbsp;&nbsp;</span>Importing and Cleaning the Data</a></span></li><li><span><a href=\"#Exploratory-Data-analysis-and-First-Round-Modeling\" data-toc-modified-id=\"Exploratory-Data-analysis-and-First-Round-Modeling-0.1.5\"><span class=\"toc-item-num\">0.1.5&nbsp;&nbsp;</span>Exploratory Data analysis and First-Round Modeling</a></span><ul class=\"toc-item\"><li><span><a href=\"#Descriptives\" data-toc-modified-id=\"Descriptives-0.1.5.1\"><span class=\"toc-item-num\">0.1.5.1&nbsp;&nbsp;</span>Descriptives</a></span></li><li><span><a href=\"#Normalization\" data-toc-modified-id=\"Normalization-0.1.5.2\"><span class=\"toc-item-num\">0.1.5.2&nbsp;&nbsp;</span>Normalization</a></span></li><li><span><a href=\"#Correlations\" data-toc-modified-id=\"Correlations-0.1.5.3\"><span class=\"toc-item-num\">0.1.5.3&nbsp;&nbsp;</span>Correlations</a></span></li><li><span><a href=\"#A-preliminary-model\" data-toc-modified-id=\"A-preliminary-model-0.1.5.4\"><span class=\"toc-item-num\">0.1.5.4&nbsp;&nbsp;</span>A preliminary model</a></span></li></ul></li><li><span><a href=\"#Feature-selection,-feature-engineering,-and-more-models\" data-toc-modified-id=\"Feature-selection,-feature-engineering,-and-more-models-0.1.6\"><span class=\"toc-item-num\">0.1.6&nbsp;&nbsp;</span>Feature selection, feature engineering, and more models</a></span><ul class=\"toc-item\"><li><span><a href=\"#Manual-feature-selection-approach\" data-toc-modified-id=\"Manual-feature-selection-approach-0.1.6.1\"><span class=\"toc-item-num\">0.1.6.1&nbsp;&nbsp;</span>Manual feature selection approach</a></span></li><li><span><a href=\"#Train-Test-Split\" data-toc-modified-id=\"Train-Test-Split-0.1.6.2\"><span class=\"toc-item-num\">0.1.6.2&nbsp;&nbsp;</span>Train-Test Split</a></span></li><li><span><a href=\"#Polynomial-features-pipeline\" data-toc-modified-id=\"Polynomial-features-pipeline-0.1.6.3\"><span class=\"toc-item-num\">0.1.6.3&nbsp;&nbsp;</span>Polynomial features pipeline</a></span></li><li><span><a href=\"#10-fold-cross-validation\" data-toc-modified-id=\"10-fold-cross-validation-0.1.6.4\"><span class=\"toc-item-num\">0.1.6.4&nbsp;&nbsp;</span>10-fold cross-validation</a></span></li><li><span><a href=\"#Cross-validation-with-Lasso-Regularization\" data-toc-modified-id=\"Cross-validation-with-Lasso-Regularization-0.1.6.5\"><span class=\"toc-item-num\">0.1.6.5&nbsp;&nbsp;</span>Cross-validation with Lasso Regularization</a></span></li></ul></li><li><span><a href=\"#Assumption-Testing\" data-toc-modified-id=\"Assumption-Testing-0.1.7\"><span class=\"toc-item-num\">0.1.7&nbsp;&nbsp;</span>Assumption Testing</a></span><ul class=\"toc-item\"><li><span><a href=\"#Assumption-One:-Plotting-Residuals\" data-toc-modified-id=\"Assumption-One:-Plotting-Residuals-0.1.7.1\"><span class=\"toc-item-num\">0.1.7.1&nbsp;&nbsp;</span>Assumption One: Plotting Residuals</a></span></li><li><span><a href=\"#Other-assumptions:\" data-toc-modified-id=\"Other-assumptions:-0.1.7.2\"><span class=\"toc-item-num\">0.1.7.2&nbsp;&nbsp;</span>Other assumptions:</a></span></li></ul></li><li><span><a href=\"#Appendix:-Graveyard-of-failed-creations\" data-toc-modified-id=\"Appendix:-Graveyard-of-failed-creations-0.1.8\"><span class=\"toc-item-num\">0.1.8&nbsp;&nbsp;</span>Appendix: Graveyard of failed creations</a></span><ul class=\"toc-item\"><li><span><a href=\"#Plotting\" data-toc-modified-id=\"Plotting-0.1.8.1\"><span class=\"toc-item-num\">0.1.8.1&nbsp;&nbsp;</span>Plotting</a></span></li></ul></li></ul></li></ul></li></ul></div>"
   ]
  },
  {
   "cell_type": "markdown",
   "metadata": {},
   "source": [
    "### Setup"
   ]
  },
  {
   "cell_type": "code",
   "execution_count": 1,
   "metadata": {
    "ExecuteTime": {
     "end_time": "2018-01-26T01:31:35.402209Z",
     "start_time": "2018-01-26T01:31:33.863798Z"
    }
   },
   "outputs": [
    {
     "name": "stderr",
     "output_type": "stream",
     "text": [
      "/anaconda3/lib/python3.6/site-packages/sklearn/cross_validation.py:41: DeprecationWarning: This module was deprecated in version 0.18 in favor of the model_selection module into which all the refactored classes and functions are moved. Also note that the interface of the new CV iterators are different from that of this module. This module will be removed in 0.20.\n",
      "  \"This module will be removed in 0.20.\", DeprecationWarning)\n"
     ]
    }
   ],
   "source": [
    "import warnings\n",
    "# so we don't get all the deprecation warnings\n",
    "warnings.filterwarnings(\"ignore\")\n",
    "\n",
    "from datetime import datetime\n",
    "\n",
    "import pandas as pd\n",
    "import numpy as np\n",
    "\n",
    "from scipy import stats\n",
    "from sklearn.linear_model import LinearRegression\n",
    "import statsmodels.api as sm\n",
    "\n",
    "\n",
    "from sklearn import preprocessing\n",
    "from sklearn.metrics import mean_squared_error\n",
    "from sklearn.model_selection import train_test_split, GridSearchCV\n",
    "from sklearn.linear_model import LassoCV, Lasso\n",
    "from sklearn.pipeline import make_pipeline\n",
    "from sklearn.preprocessing import PolynomialFeatures\n",
    "from sklearn.cross_validation import KFold, cross_val_score\n",
    "\n",
    "import seaborn as sns\n",
    "import matplotlib.pyplot as plt\n",
    "\n",
    "%matplotlib inline"
   ]
  },
  {
   "cell_type": "code",
   "execution_count": 2,
   "metadata": {
    "ExecuteTime": {
     "end_time": "2018-01-26T01:31:35.815733Z",
     "start_time": "2018-01-26T01:31:35.810410Z"
    },
    "collapsed": true
   },
   "outputs": [],
   "source": [
    "def ends(df,n_rows=5):\n",
    "    return pd.concat([df.head(n_rows) ,df.tail(n_rows)])"
   ]
  },
  {
   "cell_type": "markdown",
   "metadata": {},
   "source": [
    "### Project Description and Data Sources"
   ]
  },
  {
   "cell_type": "markdown",
   "metadata": {},
   "source": [
    "#### Ideas\n",
    "\n",
    "Can we predict the current popularity (pageviews in last 30 days) of wikipedia articles with:\n",
    "\n",
    "- Page size (in bytes)\n",
    "- Length of article\n",
    "- Number of page watchers\n",
    "- Total number of edits on an article\n",
    "- Number of redirects to this article\n",
    "- Article age (time since creation date, with now = 1/24/18)\n",
    "- Time since last edit\n",
    "- Number of editors/authors last 30 days\n",
    "\n",
    "I would have loved to get these three features, but they proved too difficult to scrape for the present project:\n",
    "- article quality as assessed by wikipedia\n",
    "- whether the article was featured on main page\n",
    "- number of links to this article from all other articles\n",
    "\n",
    "I had to eliminate the following feature:\n",
    "- Number of redirects to this articles\n",
    "\n",
    "Why would I want to ask this question?\n",
    "- As someone who uses wikipedia a lot, it's kind of interesting to me.\n",
    "- Wikipedia is probably interested in knowing what makes certain articles more popular than others. \n",
    "\n",
    "Future avenues:\n",
    "- See how news cycle stuff predicts wikipedia article popularity"
   ]
  },
  {
   "cell_type": "markdown",
   "metadata": {},
   "source": [
    "#### General Wiki-page Stats\n",
    "https://en.wikipedia.org/w/index.php?title=article_name&action=info\n",
    "\n",
    "See more below in the web-scraping section\n",
    "\n",
    "```python\n",
    "        article_title =\\\n",
    "         response.xpath('//*[@id=\"mw-pageinfo-display-title\"]/td[2]//text()').extract_first()\n",
    "\n",
    "        page_size =\\\n",
    "         response.xpath('//*[@id=\"mw-pageinfo-length\"]/td[2]/text()').extract_first()\n",
    "\n",
    "        num_watchers =\\\n",
    "         response.xpath('//*[@id=\"mw-pageinfo-watchers\"]/td[2]/text()').extract_first()\n",
    "\n",
    "        num_edits =\\\n",
    "         response.xpath('//*[@id=\"mw-pageinfo-edits\"]/td[2]/text()').extract_first()\n",
    "\n",
    "         # this one is isn't behaving right\n",
    "        num_redirects =\\\n",
    "         response.xpath('//*[@id=\"mw-content-text\"]/table[1]/tr[10]/td[2]/text()').extract_first()\n",
    "\n",
    "        creation_date =\\\n",
    "         response.xpath('//*[@id=\"mw-pageinfo-firsttime\"]/td[2]/a/text()').extract_first()\n",
    "\n",
    "        last_edit_date =\\\n",
    "         response.xpath('//*[@id=\"mw-pageinfo-lasttime\"]/td[2]/a/text()').extract_first()\n",
    "\n",
    "        authors_in_last30 =\\\n",
    "         response.xpath('//*[@id=\"mw-pageinfo-recent-authors\"]/td[2]/text()').extract_first()\n",
    "\n",
    "        # target:\n",
    "        page_views_last30 =\\\n",
    "         response.xpath(\"//div[@class='mw-pvi-month']/text()\").extract_first()\n",
    "```"
   ]
  },
  {
   "cell_type": "markdown",
   "metadata": {
    "deletable": false,
    "editable": false,
    "run_control": {
     "frozen": true
    }
   },
   "source": [
    "### Article Info scraping\n",
    "\n",
    "Plan of attack:  \n",
    "We can just use the 'requests' python library, with a little bit of regex, \n",
    "to get our article urls."
   ]
  },
  {
   "cell_type": "code",
   "execution_count": null,
   "metadata": {
    "ExecuteTime": {
     "end_time": "2018-01-24T13:47:50.854814Z",
     "start_time": "2018-01-24T13:47:50.850744Z"
    },
    "collapsed": true,
    "deletable": false,
    "editable": false,
    "run_control": {
     "frozen": true
    }
   },
   "outputs": [],
   "source": [
    "import requests\n",
    "import re"
   ]
  },
  {
   "cell_type": "code",
   "execution_count": null,
   "metadata": {
    "ExecuteTime": {
     "end_time": "2018-01-24T13:47:51.557785Z",
     "start_time": "2018-01-24T13:47:51.424128Z"
    },
    "collapsed": true,
    "deletable": false,
    "editable": false,
    "run_control": {
     "frozen": true
    }
   },
   "outputs": [],
   "source": [
    "wiki = requests.get('https://en.wikipedia.org/wiki/Special:Random')"
   ]
  },
  {
   "cell_type": "markdown",
   "metadata": {},
   "source": [
    "The next cell takes a long time to run. Run with care! Returns something new every time."
   ]
  },
  {
   "cell_type": "code",
   "execution_count": null,
   "metadata": {
    "ExecuteTime": {
     "end_time": "2018-01-23T13:32:01.365701Z",
     "start_time": "2018-01-23T13:28:17.134210Z"
    },
    "collapsed": true,
    "deletable": false,
    "editable": false,
    "run_control": {
     "frozen": true
    }
   },
   "outputs": [],
   "source": [
    "urls = []\n",
    "for i in range(1,1001):\n",
    "    wiki_url = requests.get('https://en.wikipedia.org/wiki/Special:Random').url\n",
    "    urls.append(wiki_url)\n",
    "\n",
    "print(urls[0:5])"
   ]
  },
  {
   "cell_type": "code",
   "execution_count": null,
   "metadata": {
    "ExecuteTime": {
     "end_time": "2018-01-23T13:32:41.466535Z",
     "start_time": "2018-01-23T13:32:41.458959Z"
    },
    "collapsed": true,
    "deletable": false,
    "editable": false,
    "run_control": {
     "frozen": true
    }
   },
   "outputs": [],
   "source": [
    "article_names = [re.findall(r'wiki/(.+)$',url)[0] for url in urls]\n",
    "\n",
    "article_names[0:5] # Cool, that's what I wanted"
   ]
  },
  {
   "cell_type": "code",
   "execution_count": null,
   "metadata": {
    "ExecuteTime": {
     "end_time": "2018-01-23T22:54:13.296502Z",
     "start_time": "2018-01-23T22:54:13.283368Z"
    },
    "collapsed": true,
    "deletable": false,
    "editable": false,
    "run_control": {
     "frozen": true
    }
   },
   "outputs": [],
   "source": [
    "import pickle\n",
    "# to save an object as a pickle file:\n",
    "pickle.dump(article_names, open('article_names.p', 'wb'))"
   ]
  },
  {
   "cell_type": "code",
   "execution_count": null,
   "metadata": {
    "code_folding": [],
    "collapsed": true,
    "deletable": false,
    "editable": false,
    "run_control": {
     "frozen": true
    }
   },
   "outputs": [],
   "source": [
    "# # Jon's first scrapy script!!\n",
    "\n",
    "# import scrapy\n",
    "# import pickle\n",
    "\n",
    "# # there are 1000 article names here - I want to scrape each page...\n",
    "# article_names = pickle.load(open('article_names.p', 'rb'))\n",
    "\n",
    "\n",
    "# class WikiSpider(scrapy.Spider):\n",
    "#     name = 'wiki_scraper'\n",
    "#     start_urls = ['https://en.wikipedia.org/w/index.php?title='+article_name+'&action=info' for article_name in article_names]\n",
    "#     custom_settings = {\n",
    "#         \"DOWNLOAD_DELAY\": 3,\n",
    "#         \"CONCURENT_REQUESTS_PER_DOMAIN\": 3,\n",
    "#         \"HTTPCACHE_ENABLED\": True,\n",
    "#         \"ROBOTSTXT_OBEY\" : False\n",
    "#     }\n",
    "\n",
    "#     def parse(self, response):\n",
    "#         # features:\n",
    "#         article_title =\\\n",
    "#          response.xpath('//*[@id=\"mw-pageinfo-display-title\"]/td[2]//text()').extract_first()\n",
    "\n",
    "#         page_size =\\\n",
    "#          response.xpath('//*[@id=\"mw-pageinfo-length\"]/td[2]/text()').extract_first()\n",
    "\n",
    "#         num_watchers =\\\n",
    "#          response.xpath('//*[@id=\"mw-pageinfo-watchers\"]/td[2]/text()').extract_first()\n",
    "\n",
    "#         num_edits =\\\n",
    "#          response.xpath('//*[@id=\"mw-pageinfo-edits\"]/td[2]/text()').extract_first()\n",
    "\n",
    "#          # this one is isn't behaving right\n",
    "#         num_redirects =\\\n",
    "#          response.xpath('//*[@id=\"mw-content-text\"]/table[1]/tr[10]/td[2]/text()').extract_first()\n",
    "\n",
    "#         creation_date =\\\n",
    "#          response.xpath('//*[@id=\"mw-pageinfo-firsttime\"]/td[2]/a/text()').extract_first()\n",
    "\n",
    "#         last_edit_date =\\\n",
    "#          response.xpath('//*[@id=\"mw-pageinfo-lasttime\"]/td[2]/a/text()').extract_first()\n",
    "\n",
    "#         authors_in_last30 =\\\n",
    "#          response.xpath('//*[@id=\"mw-pageinfo-recent-authors\"]/td[2]/text()').extract_first()\n",
    "\n",
    "#         # target:\n",
    "#         page_views_last30 =\\\n",
    "#          response.xpath(\"//div[@class='mw-pvi-month']/text()\").extract_first()\n",
    "\n",
    "#         yield {\n",
    "#             'article_title' : article_title,\n",
    "#             'page_size' : page_size,\n",
    "#             'num_watchers' : num_watchers,\n",
    "#             'num_edits' : num_edits,\n",
    "#             'num_redirects' : num_redirects,\n",
    "#             'creation_date' : creation_date,\n",
    "#             'last_edit_date' : last_edit_date,\n",
    "#             'authors_in_last30' : authors_in_last30,\n",
    "#             'page_views_last30' : page_views_last30\n",
    "#             }\n"
   ]
  },
  {
   "cell_type": "markdown",
   "metadata": {
    "ExecuteTime": {
     "end_time": "2018-01-23T20:32:55.179108Z",
     "start_time": "2018-01-23T20:32:55.041847Z"
    }
   },
   "source": [
    "### Importing and Cleaning the Data"
   ]
  },
  {
   "cell_type": "code",
   "execution_count": 3,
   "metadata": {
    "ExecuteTime": {
     "end_time": "2018-01-26T01:31:39.923738Z",
     "start_time": "2018-01-26T01:31:39.912559Z"
    },
    "collapsed": true
   },
   "outputs": [],
   "source": [
    "raw = pd.read_csv('wiki.csv')"
   ]
  },
  {
   "cell_type": "code",
   "execution_count": 4,
   "metadata": {
    "ExecuteTime": {
     "end_time": "2018-01-26T01:31:40.577489Z",
     "start_time": "2018-01-26T01:31:40.553403Z"
    },
    "code_folding": []
   },
   "outputs": [
    {
     "data": {
      "text/html": [
       "<div>\n",
       "<style>\n",
       "    .dataframe thead tr:only-child th {\n",
       "        text-align: right;\n",
       "    }\n",
       "\n",
       "    .dataframe thead th {\n",
       "        text-align: left;\n",
       "    }\n",
       "\n",
       "    .dataframe tbody tr th {\n",
       "        vertical-align: top;\n",
       "    }\n",
       "</style>\n",
       "<table border=\"1\" class=\"dataframe\">\n",
       "  <thead>\n",
       "    <tr style=\"text-align: right;\">\n",
       "      <th></th>\n",
       "      <th>article_title</th>\n",
       "      <th>page_size</th>\n",
       "      <th>num_watchers</th>\n",
       "      <th>num_edits</th>\n",
       "      <th>num_redirects</th>\n",
       "      <th>creation_date</th>\n",
       "      <th>last_edit_date</th>\n",
       "      <th>authors_in_last30</th>\n",
       "      <th>page_views_last30</th>\n",
       "    </tr>\n",
       "  </thead>\n",
       "  <tbody>\n",
       "    <tr>\n",
       "      <th>0</th>\n",
       "      <td>La Seine no Hoshi</td>\n",
       "      <td>3,853</td>\n",
       "      <td>Fewer than 30 watchers</td>\n",
       "      <td>67</td>\n",
       "      <td>Yes</td>\n",
       "      <td>16:26, 19 June 2005</td>\n",
       "      <td>13:50, 20 January 2018</td>\n",
       "      <td>1</td>\n",
       "      <td>577</td>\n",
       "    </tr>\n",
       "    <tr>\n",
       "      <th>1</th>\n",
       "      <td>Gary Keating</td>\n",
       "      <td>4,391</td>\n",
       "      <td>Fewer than 30 watchers</td>\n",
       "      <td>18</td>\n",
       "      <td>Yes</td>\n",
       "      <td>20:05, 23 September 2014</td>\n",
       "      <td>20:26, 28 August 2017</td>\n",
       "      <td>0</td>\n",
       "      <td>50</td>\n",
       "    </tr>\n",
       "    <tr>\n",
       "      <th>2</th>\n",
       "      <td>Colton's Crossing Bridge</td>\n",
       "      <td>2,472</td>\n",
       "      <td>Fewer than 30 watchers</td>\n",
       "      <td>18</td>\n",
       "      <td>Yes</td>\n",
       "      <td>16:58, 14 July 2012</td>\n",
       "      <td>02:15, 15 October 2017</td>\n",
       "      <td>0</td>\n",
       "      <td>42</td>\n",
       "    </tr>\n",
       "    <tr>\n",
       "      <th>3</th>\n",
       "      <td>Philippe Echaroux</td>\n",
       "      <td>7,418</td>\n",
       "      <td>Fewer than 30 watchers</td>\n",
       "      <td>36</td>\n",
       "      <td>Yes</td>\n",
       "      <td>01:07, 1 December 2016</td>\n",
       "      <td>09:10, 1 July 2017</td>\n",
       "      <td>0</td>\n",
       "      <td>163</td>\n",
       "    </tr>\n",
       "    <tr>\n",
       "      <th>4</th>\n",
       "      <td>Reverence</td>\n",
       "      <td>4,826</td>\n",
       "      <td>Fewer than 30 watchers</td>\n",
       "      <td>11</td>\n",
       "      <td>Yes</td>\n",
       "      <td>17:43, 6 September 2013</td>\n",
       "      <td>06:26, 16 January 2016</td>\n",
       "      <td>0</td>\n",
       "      <td>135</td>\n",
       "    </tr>\n",
       "    <tr>\n",
       "      <th>995</th>\n",
       "      <td>Belica, Osilnica</td>\n",
       "      <td>4,644</td>\n",
       "      <td>Fewer than 30 watchers</td>\n",
       "      <td>13</td>\n",
       "      <td>Yes</td>\n",
       "      <td>10:20, 11 March 2010</td>\n",
       "      <td>06:10, 13 March 2017</td>\n",
       "      <td>0</td>\n",
       "      <td>26</td>\n",
       "    </tr>\n",
       "    <tr>\n",
       "      <th>996</th>\n",
       "      <td>Béguédo Department</td>\n",
       "      <td>3,754</td>\n",
       "      <td>Fewer than 30 watchers</td>\n",
       "      <td>19</td>\n",
       "      <td>Yes</td>\n",
       "      <td>18:25, 11 April 2008</td>\n",
       "      <td>04:54, 28 July 2017</td>\n",
       "      <td>0</td>\n",
       "      <td>49</td>\n",
       "    </tr>\n",
       "    <tr>\n",
       "      <th>997</th>\n",
       "      <td>Eddie Marsh (bishop)</td>\n",
       "      <td>976</td>\n",
       "      <td>Fewer than 30 watchers</td>\n",
       "      <td>8</td>\n",
       "      <td>Yes</td>\n",
       "      <td>19:44, 1 September 2015</td>\n",
       "      <td>15:49, 7 June 2017</td>\n",
       "      <td>0</td>\n",
       "      <td>28</td>\n",
       "    </tr>\n",
       "    <tr>\n",
       "      <th>998</th>\n",
       "      <td>20D/Westphal</td>\n",
       "      <td>2,662</td>\n",
       "      <td>Fewer than 30 watchers</td>\n",
       "      <td>40</td>\n",
       "      <td>Yes</td>\n",
       "      <td>11:39, 9 June 2006</td>\n",
       "      <td>15:04, 27 October 2017</td>\n",
       "      <td>0</td>\n",
       "      <td>460</td>\n",
       "    </tr>\n",
       "    <tr>\n",
       "      <th>999</th>\n",
       "      <td>Franz Ludwig von Cancrin</td>\n",
       "      <td>5,051</td>\n",
       "      <td>Fewer than 30 watchers</td>\n",
       "      <td>50</td>\n",
       "      <td>Yes</td>\n",
       "      <td>19:58, 6 July 2005</td>\n",
       "      <td>17:59, 15 July 2016</td>\n",
       "      <td>0</td>\n",
       "      <td>68</td>\n",
       "    </tr>\n",
       "  </tbody>\n",
       "</table>\n",
       "</div>"
      ],
      "text/plain": [
       "                article_title page_size            num_watchers num_edits  \\\n",
       "0           La Seine no Hoshi     3,853  Fewer than 30 watchers        67   \n",
       "1                Gary Keating     4,391  Fewer than 30 watchers        18   \n",
       "2    Colton's Crossing Bridge     2,472  Fewer than 30 watchers        18   \n",
       "3           Philippe Echaroux     7,418  Fewer than 30 watchers        36   \n",
       "4                   Reverence     4,826  Fewer than 30 watchers        11   \n",
       "995          Belica, Osilnica     4,644  Fewer than 30 watchers        13   \n",
       "996        Béguédo Department     3,754  Fewer than 30 watchers        19   \n",
       "997      Eddie Marsh (bishop)       976  Fewer than 30 watchers         8   \n",
       "998              20D/Westphal     2,662  Fewer than 30 watchers        40   \n",
       "999  Franz Ludwig von Cancrin     5,051  Fewer than 30 watchers        50   \n",
       "\n",
       "    num_redirects             creation_date          last_edit_date  \\\n",
       "0             Yes       16:26, 19 June 2005  13:50, 20 January 2018   \n",
       "1             Yes  20:05, 23 September 2014   20:26, 28 August 2017   \n",
       "2             Yes       16:58, 14 July 2012  02:15, 15 October 2017   \n",
       "3             Yes    01:07, 1 December 2016      09:10, 1 July 2017   \n",
       "4             Yes   17:43, 6 September 2013  06:26, 16 January 2016   \n",
       "995           Yes      10:20, 11 March 2010    06:10, 13 March 2017   \n",
       "996           Yes      18:25, 11 April 2008     04:54, 28 July 2017   \n",
       "997           Yes   19:44, 1 September 2015      15:49, 7 June 2017   \n",
       "998           Yes        11:39, 9 June 2006  15:04, 27 October 2017   \n",
       "999           Yes        19:58, 6 July 2005     17:59, 15 July 2016   \n",
       "\n",
       "     authors_in_last30 page_views_last30  \n",
       "0                    1               577  \n",
       "1                    0                50  \n",
       "2                    0                42  \n",
       "3                    0               163  \n",
       "4                    0               135  \n",
       "995                  0                26  \n",
       "996                  0                49  \n",
       "997                  0                28  \n",
       "998                  0               460  \n",
       "999                  0                68  "
      ]
     },
     "execution_count": 4,
     "metadata": {},
     "output_type": "execute_result"
    }
   ],
   "source": [
    "ends(raw,5)"
   ]
  },
  {
   "cell_type": "markdown",
   "metadata": {},
   "source": [
    "Ok, the data is pretty clean, but let's see what we can clean further."
   ]
  },
  {
   "cell_type": "code",
   "execution_count": 5,
   "metadata": {
    "ExecuteTime": {
     "end_time": "2018-01-26T01:31:42.293629Z",
     "start_time": "2018-01-26T01:31:42.253893Z"
    }
   },
   "outputs": [
    {
     "data": {
      "text/html": [
       "<div>\n",
       "<style>\n",
       "    .dataframe thead tr:only-child th {\n",
       "        text-align: right;\n",
       "    }\n",
       "\n",
       "    .dataframe thead th {\n",
       "        text-align: left;\n",
       "    }\n",
       "\n",
       "    .dataframe tbody tr th {\n",
       "        vertical-align: top;\n",
       "    }\n",
       "</style>\n",
       "<table border=\"1\" class=\"dataframe\">\n",
       "  <thead>\n",
       "    <tr style=\"text-align: right;\">\n",
       "      <th></th>\n",
       "      <th>Title</th>\n",
       "      <th>Page Size</th>\n",
       "      <th>Watchers</th>\n",
       "      <th>Edit Count</th>\n",
       "      <th>Redirect Count</th>\n",
       "      <th>Creation Date</th>\n",
       "      <th>Last Edit Date</th>\n",
       "      <th>Recent Authors</th>\n",
       "      <th>page_views_last30</th>\n",
       "      <th>Title Length</th>\n",
       "    </tr>\n",
       "  </thead>\n",
       "  <tbody>\n",
       "    <tr>\n",
       "      <th>0</th>\n",
       "      <td>La Seine no Hoshi</td>\n",
       "      <td>3,853</td>\n",
       "      <td>Fewer than 30 watchers</td>\n",
       "      <td>67</td>\n",
       "      <td>Yes</td>\n",
       "      <td>16:26, 19 June 2005</td>\n",
       "      <td>13:50, 20 January 2018</td>\n",
       "      <td>1</td>\n",
       "      <td>577</td>\n",
       "      <td>17</td>\n",
       "    </tr>\n",
       "    <tr>\n",
       "      <th>1</th>\n",
       "      <td>Gary Keating</td>\n",
       "      <td>4,391</td>\n",
       "      <td>Fewer than 30 watchers</td>\n",
       "      <td>18</td>\n",
       "      <td>Yes</td>\n",
       "      <td>20:05, 23 September 2014</td>\n",
       "      <td>20:26, 28 August 2017</td>\n",
       "      <td>0</td>\n",
       "      <td>50</td>\n",
       "      <td>12</td>\n",
       "    </tr>\n",
       "    <tr>\n",
       "      <th>2</th>\n",
       "      <td>Colton's Crossing Bridge</td>\n",
       "      <td>2,472</td>\n",
       "      <td>Fewer than 30 watchers</td>\n",
       "      <td>18</td>\n",
       "      <td>Yes</td>\n",
       "      <td>16:58, 14 July 2012</td>\n",
       "      <td>02:15, 15 October 2017</td>\n",
       "      <td>0</td>\n",
       "      <td>42</td>\n",
       "      <td>24</td>\n",
       "    </tr>\n",
       "    <tr>\n",
       "      <th>997</th>\n",
       "      <td>Eddie Marsh (bishop)</td>\n",
       "      <td>976</td>\n",
       "      <td>Fewer than 30 watchers</td>\n",
       "      <td>8</td>\n",
       "      <td>Yes</td>\n",
       "      <td>19:44, 1 September 2015</td>\n",
       "      <td>15:49, 7 June 2017</td>\n",
       "      <td>0</td>\n",
       "      <td>28</td>\n",
       "      <td>20</td>\n",
       "    </tr>\n",
       "    <tr>\n",
       "      <th>998</th>\n",
       "      <td>20D/Westphal</td>\n",
       "      <td>2,662</td>\n",
       "      <td>Fewer than 30 watchers</td>\n",
       "      <td>40</td>\n",
       "      <td>Yes</td>\n",
       "      <td>11:39, 9 June 2006</td>\n",
       "      <td>15:04, 27 October 2017</td>\n",
       "      <td>0</td>\n",
       "      <td>460</td>\n",
       "      <td>12</td>\n",
       "    </tr>\n",
       "    <tr>\n",
       "      <th>999</th>\n",
       "      <td>Franz Ludwig von Cancrin</td>\n",
       "      <td>5,051</td>\n",
       "      <td>Fewer than 30 watchers</td>\n",
       "      <td>50</td>\n",
       "      <td>Yes</td>\n",
       "      <td>19:58, 6 July 2005</td>\n",
       "      <td>17:59, 15 July 2016</td>\n",
       "      <td>0</td>\n",
       "      <td>68</td>\n",
       "      <td>24</td>\n",
       "    </tr>\n",
       "  </tbody>\n",
       "</table>\n",
       "</div>"
      ],
      "text/plain": [
       "                        Title Page Size                Watchers Edit Count  \\\n",
       "0           La Seine no Hoshi     3,853  Fewer than 30 watchers         67   \n",
       "1                Gary Keating     4,391  Fewer than 30 watchers         18   \n",
       "2    Colton's Crossing Bridge     2,472  Fewer than 30 watchers         18   \n",
       "997      Eddie Marsh (bishop)       976  Fewer than 30 watchers          8   \n",
       "998              20D/Westphal     2,662  Fewer than 30 watchers         40   \n",
       "999  Franz Ludwig von Cancrin     5,051  Fewer than 30 watchers         50   \n",
       "\n",
       "    Redirect Count             Creation Date          Last Edit Date  \\\n",
       "0              Yes       16:26, 19 June 2005  13:50, 20 January 2018   \n",
       "1              Yes  20:05, 23 September 2014   20:26, 28 August 2017   \n",
       "2              Yes       16:58, 14 July 2012  02:15, 15 October 2017   \n",
       "997            Yes   19:44, 1 September 2015      15:49, 7 June 2017   \n",
       "998            Yes        11:39, 9 June 2006  15:04, 27 October 2017   \n",
       "999            Yes        19:58, 6 July 2005     17:59, 15 July 2016   \n",
       "\n",
       "     Recent Authors page_views_last30  Title Length  \n",
       "0                 1               577            17  \n",
       "1                 0                50            12  \n",
       "2                 0                42            24  \n",
       "997               0                28            20  \n",
       "998               0               460            12  \n",
       "999               0                68            24  "
      ]
     },
     "execution_count": 5,
     "metadata": {},
     "output_type": "execute_result"
    }
   ],
   "source": [
    "# First, let's change those column names\n",
    "raw = raw.rename(index=str, columns={\"article_title\": \"Title\",\n",
    "                              \"page_size\":\"Page Size\",\n",
    "                              \"num_watchers\":\"Watchers\",\n",
    "                              \"num_redirects\": \"Redirect Count\",\n",
    "                              \"num_edits\":\"Edit Count\",\n",
    "                              \"creation_date\":\"Creation Date\",\n",
    "                              \"last_edit_date\": \"Last Edit Date\",\n",
    "                              \"authors_in_last30\":\"Recent Authors\"})\n",
    "\n",
    "# We can make a Title Length column!\n",
    "raw[\"Title Length\"] = raw[\"Title\"].str.len()\n",
    "\n",
    "## Bin Watchers into categories.\n",
    "raw['Watchers'] = raw['Watchers'].replace(r'^\\d{2}$','30 to 99 watchers', regex = True)\n",
    "raw['Watchers'] = raw['Watchers'].replace(r'^\\d{3}$','100+ watchers', regex = True)\n",
    "\n",
    "## scrape quality or get article quality somehow\n",
    "### might not be enough time. will do if everything else is done first\n",
    "ends(raw,3)"
   ]
  },
  {
   "cell_type": "code",
   "execution_count": 6,
   "metadata": {
    "ExecuteTime": {
     "end_time": "2018-01-26T01:31:43.161061Z",
     "start_time": "2018-01-26T01:31:43.154437Z"
    },
    "collapsed": true
   },
   "outputs": [],
   "source": [
    "# Looks like Redirect Count isn't working, we'll delete for now. Will try and fix if time.\n",
    "try:\n",
    "    del raw['Redirect Count']\n",
    "except:\n",
    "    print(\"Already deleted column.\")\n",
    "    "
   ]
  },
  {
   "cell_type": "code",
   "execution_count": 78,
   "metadata": {
    "ExecuteTime": {
     "end_time": "2018-01-26T02:23:30.931063Z",
     "start_time": "2018-01-26T02:23:30.907770Z"
    }
   },
   "outputs": [
    {
     "data": {
      "text/html": [
       "<div>\n",
       "<style>\n",
       "    .dataframe thead tr:only-child th {\n",
       "        text-align: right;\n",
       "    }\n",
       "\n",
       "    .dataframe thead th {\n",
       "        text-align: left;\n",
       "    }\n",
       "\n",
       "    .dataframe tbody tr th {\n",
       "        vertical-align: top;\n",
       "    }\n",
       "</style>\n",
       "<table border=\"1\" class=\"dataframe\">\n",
       "  <thead>\n",
       "    <tr style=\"text-align: right;\">\n",
       "      <th></th>\n",
       "      <th>Title</th>\n",
       "      <th>Page Size</th>\n",
       "      <th>Watchers</th>\n",
       "      <th>Edit Count</th>\n",
       "      <th>Creation Date</th>\n",
       "      <th>Last Edit Date</th>\n",
       "      <th>Recent Authors</th>\n",
       "      <th>page_views_last30</th>\n",
       "      <th>Title Length</th>\n",
       "    </tr>\n",
       "  </thead>\n",
       "  <tbody>\n",
       "    <tr>\n",
       "      <th>0</th>\n",
       "      <td>La Seine no Hoshi</td>\n",
       "      <td>3,853</td>\n",
       "      <td>Fewer than 30 watchers</td>\n",
       "      <td>67</td>\n",
       "      <td>16:26, 19 June 2005</td>\n",
       "      <td>13:50, 20 January 2018</td>\n",
       "      <td>1</td>\n",
       "      <td>577</td>\n",
       "      <td>17</td>\n",
       "    </tr>\n",
       "    <tr>\n",
       "      <th>1</th>\n",
       "      <td>Gary Keating</td>\n",
       "      <td>4,391</td>\n",
       "      <td>Fewer than 30 watchers</td>\n",
       "      <td>18</td>\n",
       "      <td>20:05, 23 September 2014</td>\n",
       "      <td>20:26, 28 August 2017</td>\n",
       "      <td>0</td>\n",
       "      <td>50</td>\n",
       "      <td>12</td>\n",
       "    </tr>\n",
       "    <tr>\n",
       "      <th>2</th>\n",
       "      <td>Colton's Crossing Bridge</td>\n",
       "      <td>2,472</td>\n",
       "      <td>Fewer than 30 watchers</td>\n",
       "      <td>18</td>\n",
       "      <td>16:58, 14 July 2012</td>\n",
       "      <td>02:15, 15 October 2017</td>\n",
       "      <td>0</td>\n",
       "      <td>42</td>\n",
       "      <td>24</td>\n",
       "    </tr>\n",
       "    <tr>\n",
       "      <th>3</th>\n",
       "      <td>Philippe Echaroux</td>\n",
       "      <td>7,418</td>\n",
       "      <td>Fewer than 30 watchers</td>\n",
       "      <td>36</td>\n",
       "      <td>01:07, 1 December 2016</td>\n",
       "      <td>09:10, 1 July 2017</td>\n",
       "      <td>0</td>\n",
       "      <td>163</td>\n",
       "      <td>17</td>\n",
       "    </tr>\n",
       "    <tr>\n",
       "      <th>4</th>\n",
       "      <td>Reverence</td>\n",
       "      <td>4,826</td>\n",
       "      <td>Fewer than 30 watchers</td>\n",
       "      <td>11</td>\n",
       "      <td>17:43, 6 September 2013</td>\n",
       "      <td>06:26, 16 January 2016</td>\n",
       "      <td>0</td>\n",
       "      <td>135</td>\n",
       "      <td>9</td>\n",
       "    </tr>\n",
       "    <tr>\n",
       "      <th>5</th>\n",
       "      <td>Surpura</td>\n",
       "      <td>495</td>\n",
       "      <td>Fewer than 30 watchers</td>\n",
       "      <td>8</td>\n",
       "      <td>07:05, 8 July 2014</td>\n",
       "      <td>23:17, 12 February 2016</td>\n",
       "      <td>0</td>\n",
       "      <td>52</td>\n",
       "      <td>7</td>\n",
       "    </tr>\n",
       "    <tr>\n",
       "      <th>6</th>\n",
       "      <td>Dorymyrmex joergenseni</td>\n",
       "      <td>799</td>\n",
       "      <td>Fewer than 30 watchers</td>\n",
       "      <td>2</td>\n",
       "      <td>16:47, 23 January 2015</td>\n",
       "      <td>10:05, 2 April 2015</td>\n",
       "      <td>0</td>\n",
       "      <td>25</td>\n",
       "      <td>22</td>\n",
       "    </tr>\n",
       "    <tr>\n",
       "      <th>993</th>\n",
       "      <td>Grandmothers of the Plaza de Mayo</td>\n",
       "      <td>14,061</td>\n",
       "      <td>Fewer than 30 watchers</td>\n",
       "      <td>132</td>\n",
       "      <td>01:07, 18 December 2003</td>\n",
       "      <td>23:38, 10 December 2017</td>\n",
       "      <td>0</td>\n",
       "      <td>999</td>\n",
       "      <td>33</td>\n",
       "    </tr>\n",
       "    <tr>\n",
       "      <th>994</th>\n",
       "      <td>Harry Dalzell, 10th Earl of Carnwath</td>\n",
       "      <td>1,929</td>\n",
       "      <td>Fewer than 30 watchers</td>\n",
       "      <td>10</td>\n",
       "      <td>08:05, 21 October 2013</td>\n",
       "      <td>23:25, 11 May 2017</td>\n",
       "      <td>0</td>\n",
       "      <td>44</td>\n",
       "      <td>36</td>\n",
       "    </tr>\n",
       "    <tr>\n",
       "      <th>995</th>\n",
       "      <td>Belica, Osilnica</td>\n",
       "      <td>4,644</td>\n",
       "      <td>Fewer than 30 watchers</td>\n",
       "      <td>13</td>\n",
       "      <td>10:20, 11 March 2010</td>\n",
       "      <td>06:10, 13 March 2017</td>\n",
       "      <td>0</td>\n",
       "      <td>26</td>\n",
       "      <td>16</td>\n",
       "    </tr>\n",
       "    <tr>\n",
       "      <th>996</th>\n",
       "      <td>Béguédo Department</td>\n",
       "      <td>3,754</td>\n",
       "      <td>Fewer than 30 watchers</td>\n",
       "      <td>19</td>\n",
       "      <td>18:25, 11 April 2008</td>\n",
       "      <td>04:54, 28 July 2017</td>\n",
       "      <td>0</td>\n",
       "      <td>49</td>\n",
       "      <td>18</td>\n",
       "    </tr>\n",
       "    <tr>\n",
       "      <th>997</th>\n",
       "      <td>Eddie Marsh (bishop)</td>\n",
       "      <td>976</td>\n",
       "      <td>Fewer than 30 watchers</td>\n",
       "      <td>8</td>\n",
       "      <td>19:44, 1 September 2015</td>\n",
       "      <td>15:49, 7 June 2017</td>\n",
       "      <td>0</td>\n",
       "      <td>28</td>\n",
       "      <td>20</td>\n",
       "    </tr>\n",
       "    <tr>\n",
       "      <th>998</th>\n",
       "      <td>20D/Westphal</td>\n",
       "      <td>2,662</td>\n",
       "      <td>Fewer than 30 watchers</td>\n",
       "      <td>40</td>\n",
       "      <td>11:39, 9 June 2006</td>\n",
       "      <td>15:04, 27 October 2017</td>\n",
       "      <td>0</td>\n",
       "      <td>460</td>\n",
       "      <td>12</td>\n",
       "    </tr>\n",
       "    <tr>\n",
       "      <th>999</th>\n",
       "      <td>Franz Ludwig von Cancrin</td>\n",
       "      <td>5,051</td>\n",
       "      <td>Fewer than 30 watchers</td>\n",
       "      <td>50</td>\n",
       "      <td>19:58, 6 July 2005</td>\n",
       "      <td>17:59, 15 July 2016</td>\n",
       "      <td>0</td>\n",
       "      <td>68</td>\n",
       "      <td>24</td>\n",
       "    </tr>\n",
       "  </tbody>\n",
       "</table>\n",
       "</div>"
      ],
      "text/plain": [
       "                                    Title Page Size                Watchers  \\\n",
       "0                       La Seine no Hoshi     3,853  Fewer than 30 watchers   \n",
       "1                            Gary Keating     4,391  Fewer than 30 watchers   \n",
       "2                Colton's Crossing Bridge     2,472  Fewer than 30 watchers   \n",
       "3                       Philippe Echaroux     7,418  Fewer than 30 watchers   \n",
       "4                               Reverence     4,826  Fewer than 30 watchers   \n",
       "5                                 Surpura       495  Fewer than 30 watchers   \n",
       "6                  Dorymyrmex joergenseni       799  Fewer than 30 watchers   \n",
       "993     Grandmothers of the Plaza de Mayo    14,061  Fewer than 30 watchers   \n",
       "994  Harry Dalzell, 10th Earl of Carnwath     1,929  Fewer than 30 watchers   \n",
       "995                      Belica, Osilnica     4,644  Fewer than 30 watchers   \n",
       "996                    Béguédo Department     3,754  Fewer than 30 watchers   \n",
       "997                  Eddie Marsh (bishop)       976  Fewer than 30 watchers   \n",
       "998                          20D/Westphal     2,662  Fewer than 30 watchers   \n",
       "999              Franz Ludwig von Cancrin     5,051  Fewer than 30 watchers   \n",
       "\n",
       "    Edit Count             Creation Date           Last Edit Date  \\\n",
       "0           67       16:26, 19 June 2005   13:50, 20 January 2018   \n",
       "1           18  20:05, 23 September 2014    20:26, 28 August 2017   \n",
       "2           18       16:58, 14 July 2012   02:15, 15 October 2017   \n",
       "3           36    01:07, 1 December 2016       09:10, 1 July 2017   \n",
       "4           11   17:43, 6 September 2013   06:26, 16 January 2016   \n",
       "5            8        07:05, 8 July 2014  23:17, 12 February 2016   \n",
       "6            2    16:47, 23 January 2015      10:05, 2 April 2015   \n",
       "993        132   01:07, 18 December 2003  23:38, 10 December 2017   \n",
       "994         10    08:05, 21 October 2013       23:25, 11 May 2017   \n",
       "995         13      10:20, 11 March 2010     06:10, 13 March 2017   \n",
       "996         19      18:25, 11 April 2008      04:54, 28 July 2017   \n",
       "997          8   19:44, 1 September 2015       15:49, 7 June 2017   \n",
       "998         40        11:39, 9 June 2006   15:04, 27 October 2017   \n",
       "999         50        19:58, 6 July 2005      17:59, 15 July 2016   \n",
       "\n",
       "     Recent Authors page_views_last30  Title Length  \n",
       "0                 1               577            17  \n",
       "1                 0                50            12  \n",
       "2                 0                42            24  \n",
       "3                 0               163            17  \n",
       "4                 0               135             9  \n",
       "5                 0                52             7  \n",
       "6                 0                25            22  \n",
       "993               0               999            33  \n",
       "994               0                44            36  \n",
       "995               0                26            16  \n",
       "996               0                49            18  \n",
       "997               0                28            20  \n",
       "998               0               460            12  \n",
       "999               0                68            24  "
      ]
     },
     "execution_count": 78,
     "metadata": {},
     "output_type": "execute_result"
    }
   ],
   "source": [
    "ends(raw,7)"
   ]
  },
  {
   "cell_type": "code",
   "execution_count": 7,
   "metadata": {
    "ExecuteTime": {
     "end_time": "2018-01-26T01:31:44.545655Z",
     "start_time": "2018-01-26T01:31:44.517802Z"
    },
    "scrolled": true
   },
   "outputs": [
    {
     "data": {
      "text/html": [
       "<div>\n",
       "<style>\n",
       "    .dataframe thead tr:only-child th {\n",
       "        text-align: right;\n",
       "    }\n",
       "\n",
       "    .dataframe thead th {\n",
       "        text-align: left;\n",
       "    }\n",
       "\n",
       "    .dataframe tbody tr th {\n",
       "        vertical-align: top;\n",
       "    }\n",
       "</style>\n",
       "<table border=\"1\" class=\"dataframe\">\n",
       "  <thead>\n",
       "    <tr style=\"text-align: right;\">\n",
       "      <th></th>\n",
       "      <th>Title</th>\n",
       "      <th>Page Size</th>\n",
       "      <th>Edit Count</th>\n",
       "      <th>Creation Date</th>\n",
       "      <th>Last Edit Date</th>\n",
       "      <th>Recent Authors</th>\n",
       "      <th>page_views_last30</th>\n",
       "      <th>Title Length</th>\n",
       "      <th>100+ watchers</th>\n",
       "      <th>30 to 99 watchers</th>\n",
       "    </tr>\n",
       "  </thead>\n",
       "  <tbody>\n",
       "    <tr>\n",
       "      <th>0</th>\n",
       "      <td>La Seine no Hoshi</td>\n",
       "      <td>3,853</td>\n",
       "      <td>67</td>\n",
       "      <td>16:26, 19 June 2005</td>\n",
       "      <td>13:50, 20 January 2018</td>\n",
       "      <td>1</td>\n",
       "      <td>577</td>\n",
       "      <td>17</td>\n",
       "      <td>0</td>\n",
       "      <td>0</td>\n",
       "    </tr>\n",
       "    <tr>\n",
       "      <th>1</th>\n",
       "      <td>Gary Keating</td>\n",
       "      <td>4,391</td>\n",
       "      <td>18</td>\n",
       "      <td>20:05, 23 September 2014</td>\n",
       "      <td>20:26, 28 August 2017</td>\n",
       "      <td>0</td>\n",
       "      <td>50</td>\n",
       "      <td>12</td>\n",
       "      <td>0</td>\n",
       "      <td>0</td>\n",
       "    </tr>\n",
       "    <tr>\n",
       "      <th>2</th>\n",
       "      <td>Colton's Crossing Bridge</td>\n",
       "      <td>2,472</td>\n",
       "      <td>18</td>\n",
       "      <td>16:58, 14 July 2012</td>\n",
       "      <td>02:15, 15 October 2017</td>\n",
       "      <td>0</td>\n",
       "      <td>42</td>\n",
       "      <td>24</td>\n",
       "      <td>0</td>\n",
       "      <td>0</td>\n",
       "    </tr>\n",
       "    <tr>\n",
       "      <th>3</th>\n",
       "      <td>Philippe Echaroux</td>\n",
       "      <td>7,418</td>\n",
       "      <td>36</td>\n",
       "      <td>01:07, 1 December 2016</td>\n",
       "      <td>09:10, 1 July 2017</td>\n",
       "      <td>0</td>\n",
       "      <td>163</td>\n",
       "      <td>17</td>\n",
       "      <td>0</td>\n",
       "      <td>0</td>\n",
       "    </tr>\n",
       "    <tr>\n",
       "      <th>4</th>\n",
       "      <td>Reverence</td>\n",
       "      <td>4,826</td>\n",
       "      <td>11</td>\n",
       "      <td>17:43, 6 September 2013</td>\n",
       "      <td>06:26, 16 January 2016</td>\n",
       "      <td>0</td>\n",
       "      <td>135</td>\n",
       "      <td>9</td>\n",
       "      <td>0</td>\n",
       "      <td>0</td>\n",
       "    </tr>\n",
       "    <tr>\n",
       "      <th>995</th>\n",
       "      <td>Belica, Osilnica</td>\n",
       "      <td>4,644</td>\n",
       "      <td>13</td>\n",
       "      <td>10:20, 11 March 2010</td>\n",
       "      <td>06:10, 13 March 2017</td>\n",
       "      <td>0</td>\n",
       "      <td>26</td>\n",
       "      <td>16</td>\n",
       "      <td>0</td>\n",
       "      <td>0</td>\n",
       "    </tr>\n",
       "    <tr>\n",
       "      <th>996</th>\n",
       "      <td>Béguédo Department</td>\n",
       "      <td>3,754</td>\n",
       "      <td>19</td>\n",
       "      <td>18:25, 11 April 2008</td>\n",
       "      <td>04:54, 28 July 2017</td>\n",
       "      <td>0</td>\n",
       "      <td>49</td>\n",
       "      <td>18</td>\n",
       "      <td>0</td>\n",
       "      <td>0</td>\n",
       "    </tr>\n",
       "    <tr>\n",
       "      <th>997</th>\n",
       "      <td>Eddie Marsh (bishop)</td>\n",
       "      <td>976</td>\n",
       "      <td>8</td>\n",
       "      <td>19:44, 1 September 2015</td>\n",
       "      <td>15:49, 7 June 2017</td>\n",
       "      <td>0</td>\n",
       "      <td>28</td>\n",
       "      <td>20</td>\n",
       "      <td>0</td>\n",
       "      <td>0</td>\n",
       "    </tr>\n",
       "    <tr>\n",
       "      <th>998</th>\n",
       "      <td>20D/Westphal</td>\n",
       "      <td>2,662</td>\n",
       "      <td>40</td>\n",
       "      <td>11:39, 9 June 2006</td>\n",
       "      <td>15:04, 27 October 2017</td>\n",
       "      <td>0</td>\n",
       "      <td>460</td>\n",
       "      <td>12</td>\n",
       "      <td>0</td>\n",
       "      <td>0</td>\n",
       "    </tr>\n",
       "    <tr>\n",
       "      <th>999</th>\n",
       "      <td>Franz Ludwig von Cancrin</td>\n",
       "      <td>5,051</td>\n",
       "      <td>50</td>\n",
       "      <td>19:58, 6 July 2005</td>\n",
       "      <td>17:59, 15 July 2016</td>\n",
       "      <td>0</td>\n",
       "      <td>68</td>\n",
       "      <td>24</td>\n",
       "      <td>0</td>\n",
       "      <td>0</td>\n",
       "    </tr>\n",
       "  </tbody>\n",
       "</table>\n",
       "</div>"
      ],
      "text/plain": [
       "                        Title Page Size Edit Count             Creation Date  \\\n",
       "0           La Seine no Hoshi     3,853         67       16:26, 19 June 2005   \n",
       "1                Gary Keating     4,391         18  20:05, 23 September 2014   \n",
       "2    Colton's Crossing Bridge     2,472         18       16:58, 14 July 2012   \n",
       "3           Philippe Echaroux     7,418         36    01:07, 1 December 2016   \n",
       "4                   Reverence     4,826         11   17:43, 6 September 2013   \n",
       "995          Belica, Osilnica     4,644         13      10:20, 11 March 2010   \n",
       "996        Béguédo Department     3,754         19      18:25, 11 April 2008   \n",
       "997      Eddie Marsh (bishop)       976          8   19:44, 1 September 2015   \n",
       "998              20D/Westphal     2,662         40        11:39, 9 June 2006   \n",
       "999  Franz Ludwig von Cancrin     5,051         50        19:58, 6 July 2005   \n",
       "\n",
       "             Last Edit Date  Recent Authors page_views_last30  Title Length  \\\n",
       "0    13:50, 20 January 2018               1               577            17   \n",
       "1     20:26, 28 August 2017               0                50            12   \n",
       "2    02:15, 15 October 2017               0                42            24   \n",
       "3        09:10, 1 July 2017               0               163            17   \n",
       "4    06:26, 16 January 2016               0               135             9   \n",
       "995    06:10, 13 March 2017               0                26            16   \n",
       "996     04:54, 28 July 2017               0                49            18   \n",
       "997      15:49, 7 June 2017               0                28            20   \n",
       "998  15:04, 27 October 2017               0               460            12   \n",
       "999     17:59, 15 July 2016               0                68            24   \n",
       "\n",
       "     100+ watchers  30 to 99 watchers  \n",
       "0                0                  0  \n",
       "1                0                  0  \n",
       "2                0                  0  \n",
       "3                0                  0  \n",
       "4                0                  0  \n",
       "995              0                  0  \n",
       "996              0                  0  \n",
       "997              0                  0  \n",
       "998              0                  0  \n",
       "999              0                  0  "
      ]
     },
     "execution_count": 7,
     "metadata": {},
     "output_type": "execute_result"
    }
   ],
   "source": [
    "# we're going to want to make dummies of the watchers, because it's a mixed type. Dang!\n",
    "raw2 = raw.join(pd.get_dummies(raw['Watchers']))\n",
    "del raw2['Fewer than 30 watchers']\n",
    "del raw2['Watchers']\n",
    "\n",
    "ends(raw2,5) # sanity check"
   ]
  },
  {
   "cell_type": "code",
   "execution_count": 8,
   "metadata": {
    "ExecuteTime": {
     "end_time": "2018-01-26T01:31:45.304656Z",
     "start_time": "2018-01-26T01:31:45.297748Z"
    }
   },
   "outputs": [
    {
     "name": "stdout",
     "output_type": "stream",
     "text": [
      "Title                object\n",
      "Page Size            object\n",
      "Edit Count           object\n",
      "Creation Date        object\n",
      "Last Edit Date       object\n",
      "Recent Authors        int64\n",
      "page_views_last30    object\n",
      "Title Length          int64\n",
      "100+ watchers         uint8\n",
      "30 to 99 watchers     uint8\n",
      "dtype: object\n"
     ]
    }
   ],
   "source": [
    "articles = raw2 # ok, I'm comfortable switching over form raw now\n",
    "\n",
    "print(articles.dtypes) # let's see if our data types are behaving!"
   ]
  },
  {
   "cell_type": "code",
   "execution_count": 9,
   "metadata": {
    "ExecuteTime": {
     "end_time": "2018-01-26T01:31:47.422415Z",
     "start_time": "2018-01-26T01:31:46.694899Z"
    },
    "collapsed": true,
    "scrolled": false
   },
   "outputs": [],
   "source": [
    "# Some data reformatting and cleaning\n",
    "articles = articles.dropna()\n",
    "\n",
    "## Changes our page size and edit counts to numeric, after removing commas\n",
    "articles[\"Page Size\"] = pd.to_numeric(raw[\"Page Size\"].replace({r',':''}, regex = True))\n",
    "articles[\"Edit Count\"] = pd.to_numeric(raw[\"Edit Count\"].replace({r',':''}, regex = True))\n",
    "articles[\"page_views_last30\"] = pd.to_numeric(raw[\"page_views_last30\"].replace({r',':''}, regex = True))\n",
    "\n",
    "articles[\"Page Size\"] = articles[\"Page Size\"].astype(int)\n",
    "articles[\"page_views_last30\"] = articles[\"page_views_last30\"].astype(int)\n",
    "\n",
    "## Change these time strings into datetimes\n",
    "articles[\"Creation Date\"] = pd.to_datetime(raw[\"Creation Date\"])\n",
    "articles[\"Last Edit Date\"] = pd.to_datetime(raw[\"Last Edit Date\"])\n",
    "\n",
    "## We want the above as days from present (for our purposes, present will be UTC Jan 23 at 9:15pm)\n",
    "now = datetime(2018, 1, 23, 21, 15, 14, 24917)\n",
    "articles[\"Article Age\"] = (now - articles['Creation Date']).dt.days\n",
    "articles[\"Days Since Last Edit\"] = (now - articles['Last Edit Date']).dt.days"
   ]
  },
  {
   "cell_type": "code",
   "execution_count": 10,
   "metadata": {
    "ExecuteTime": {
     "end_time": "2018-01-26T01:31:49.166392Z",
     "start_time": "2018-01-26T01:31:49.159330Z"
    },
    "scrolled": true
   },
   "outputs": [
    {
     "name": "stdout",
     "output_type": "stream",
     "text": [
      "Title                           object\n",
      "Page Size                        int64\n",
      "Edit Count                       int64\n",
      "Creation Date           datetime64[ns]\n",
      "Last Edit Date          datetime64[ns]\n",
      "Recent Authors                   int64\n",
      "page_views_last30                int64\n",
      "Title Length                     int64\n",
      "100+ watchers                    uint8\n",
      "30 to 99 watchers                uint8\n",
      "Article Age                      int64\n",
      "Days Since Last Edit             int64\n",
      "dtype: object\n"
     ]
    }
   ],
   "source": [
    "print(articles.dtypes) # let's see if our data types are behaving!\n",
    "# excellent"
   ]
  },
  {
   "cell_type": "markdown",
   "metadata": {},
   "source": [
    "### Exploratory Data analysis and First-Round Modeling"
   ]
  },
  {
   "cell_type": "code",
   "execution_count": 11,
   "metadata": {
    "ExecuteTime": {
     "end_time": "2018-01-26T01:31:50.630261Z",
     "start_time": "2018-01-26T01:31:50.604895Z"
    },
    "scrolled": true
   },
   "outputs": [
    {
     "data": {
      "text/html": [
       "<div>\n",
       "<style>\n",
       "    .dataframe thead tr:only-child th {\n",
       "        text-align: right;\n",
       "    }\n",
       "\n",
       "    .dataframe thead th {\n",
       "        text-align: left;\n",
       "    }\n",
       "\n",
       "    .dataframe tbody tr th {\n",
       "        vertical-align: top;\n",
       "    }\n",
       "</style>\n",
       "<table border=\"1\" class=\"dataframe\">\n",
       "  <thead>\n",
       "    <tr style=\"text-align: right;\">\n",
       "      <th></th>\n",
       "      <th>Title Length</th>\n",
       "      <th>Page Size</th>\n",
       "      <th>Edit Count</th>\n",
       "      <th>Recent Authors</th>\n",
       "      <th>30 to 99 watchers</th>\n",
       "      <th>100+ watchers</th>\n",
       "      <th>Article Age</th>\n",
       "      <th>Days Since Last Edit</th>\n",
       "      <th>page_views_last30</th>\n",
       "    </tr>\n",
       "  </thead>\n",
       "  <tbody>\n",
       "    <tr>\n",
       "      <th>0</th>\n",
       "      <td>17</td>\n",
       "      <td>3853</td>\n",
       "      <td>67</td>\n",
       "      <td>1</td>\n",
       "      <td>0</td>\n",
       "      <td>0</td>\n",
       "      <td>4601</td>\n",
       "      <td>3</td>\n",
       "      <td>577</td>\n",
       "    </tr>\n",
       "    <tr>\n",
       "      <th>1</th>\n",
       "      <td>12</td>\n",
       "      <td>4391</td>\n",
       "      <td>18</td>\n",
       "      <td>0</td>\n",
       "      <td>0</td>\n",
       "      <td>0</td>\n",
       "      <td>1218</td>\n",
       "      <td>148</td>\n",
       "      <td>50</td>\n",
       "    </tr>\n",
       "    <tr>\n",
       "      <th>2</th>\n",
       "      <td>24</td>\n",
       "      <td>2472</td>\n",
       "      <td>18</td>\n",
       "      <td>0</td>\n",
       "      <td>0</td>\n",
       "      <td>0</td>\n",
       "      <td>2019</td>\n",
       "      <td>100</td>\n",
       "      <td>42</td>\n",
       "    </tr>\n",
       "    <tr>\n",
       "      <th>3</th>\n",
       "      <td>17</td>\n",
       "      <td>7418</td>\n",
       "      <td>36</td>\n",
       "      <td>0</td>\n",
       "      <td>0</td>\n",
       "      <td>0</td>\n",
       "      <td>418</td>\n",
       "      <td>206</td>\n",
       "      <td>163</td>\n",
       "    </tr>\n",
       "    <tr>\n",
       "      <th>4</th>\n",
       "      <td>9</td>\n",
       "      <td>4826</td>\n",
       "      <td>11</td>\n",
       "      <td>0</td>\n",
       "      <td>0</td>\n",
       "      <td>0</td>\n",
       "      <td>1600</td>\n",
       "      <td>738</td>\n",
       "      <td>135</td>\n",
       "    </tr>\n",
       "    <tr>\n",
       "      <th>995</th>\n",
       "      <td>16</td>\n",
       "      <td>4644</td>\n",
       "      <td>13</td>\n",
       "      <td>0</td>\n",
       "      <td>0</td>\n",
       "      <td>0</td>\n",
       "      <td>2875</td>\n",
       "      <td>316</td>\n",
       "      <td>26</td>\n",
       "    </tr>\n",
       "    <tr>\n",
       "      <th>996</th>\n",
       "      <td>18</td>\n",
       "      <td>3754</td>\n",
       "      <td>19</td>\n",
       "      <td>0</td>\n",
       "      <td>0</td>\n",
       "      <td>0</td>\n",
       "      <td>3574</td>\n",
       "      <td>179</td>\n",
       "      <td>49</td>\n",
       "    </tr>\n",
       "    <tr>\n",
       "      <th>997</th>\n",
       "      <td>20</td>\n",
       "      <td>976</td>\n",
       "      <td>8</td>\n",
       "      <td>0</td>\n",
       "      <td>0</td>\n",
       "      <td>0</td>\n",
       "      <td>875</td>\n",
       "      <td>230</td>\n",
       "      <td>28</td>\n",
       "    </tr>\n",
       "    <tr>\n",
       "      <th>998</th>\n",
       "      <td>12</td>\n",
       "      <td>2662</td>\n",
       "      <td>40</td>\n",
       "      <td>0</td>\n",
       "      <td>0</td>\n",
       "      <td>0</td>\n",
       "      <td>4246</td>\n",
       "      <td>88</td>\n",
       "      <td>460</td>\n",
       "    </tr>\n",
       "    <tr>\n",
       "      <th>999</th>\n",
       "      <td>24</td>\n",
       "      <td>5051</td>\n",
       "      <td>50</td>\n",
       "      <td>0</td>\n",
       "      <td>0</td>\n",
       "      <td>0</td>\n",
       "      <td>4584</td>\n",
       "      <td>557</td>\n",
       "      <td>68</td>\n",
       "    </tr>\n",
       "  </tbody>\n",
       "</table>\n",
       "</div>"
      ],
      "text/plain": [
       "     Title Length  Page Size  Edit Count  Recent Authors  30 to 99 watchers  \\\n",
       "0              17       3853          67               1                  0   \n",
       "1              12       4391          18               0                  0   \n",
       "2              24       2472          18               0                  0   \n",
       "3              17       7418          36               0                  0   \n",
       "4               9       4826          11               0                  0   \n",
       "995            16       4644          13               0                  0   \n",
       "996            18       3754          19               0                  0   \n",
       "997            20        976           8               0                  0   \n",
       "998            12       2662          40               0                  0   \n",
       "999            24       5051          50               0                  0   \n",
       "\n",
       "     100+ watchers  Article Age  Days Since Last Edit  page_views_last30  \n",
       "0                0         4601                     3                577  \n",
       "1                0         1218                   148                 50  \n",
       "2                0         2019                   100                 42  \n",
       "3                0          418                   206                163  \n",
       "4                0         1600                   738                135  \n",
       "995              0         2875                   316                 26  \n",
       "996              0         3574                   179                 49  \n",
       "997              0          875                   230                 28  \n",
       "998              0         4246                    88                460  \n",
       "999              0         4584                   557                 68  "
      ]
     },
     "execution_count": 11,
     "metadata": {},
     "output_type": "execute_result"
    }
   ],
   "source": [
    "num_only = articles[[\"Title Length\",\n",
    "              \"Page Size\",\n",
    "              \"Edit Count\",\n",
    "              \"Recent Authors\",\n",
    "              \"30 to 99 watchers\",\n",
    "              \"100+ watchers\",\n",
    "              \"Article Age\",\n",
    "              \"Days Since Last Edit\",\n",
    "              \"page_views_last30\"]]\n",
    "\n",
    "ends(num_only) # sanity check"
   ]
  },
  {
   "cell_type": "markdown",
   "metadata": {
    "ExecuteTime": {
     "end_time": "2018-01-24T23:55:26.441442Z",
     "start_time": "2018-01-24T23:55:26.437700Z"
    }
   },
   "source": [
    "#### Descriptives"
   ]
  },
  {
   "cell_type": "code",
   "execution_count": 12,
   "metadata": {
    "ExecuteTime": {
     "end_time": "2018-01-26T01:31:52.736494Z",
     "start_time": "2018-01-26T01:31:52.701002Z"
    },
    "scrolled": false
   },
   "outputs": [
    {
     "name": "stdout",
     "output_type": "stream",
     "text": [
      "We have 8 features to predict our target\n"
     ]
    },
    {
     "data": {
      "text/html": [
       "<div>\n",
       "<style>\n",
       "    .dataframe thead tr:only-child th {\n",
       "        text-align: right;\n",
       "    }\n",
       "\n",
       "    .dataframe thead th {\n",
       "        text-align: left;\n",
       "    }\n",
       "\n",
       "    .dataframe tbody tr th {\n",
       "        vertical-align: top;\n",
       "    }\n",
       "</style>\n",
       "<table border=\"1\" class=\"dataframe\">\n",
       "  <thead>\n",
       "    <tr style=\"text-align: right;\">\n",
       "      <th></th>\n",
       "      <th>Title Length</th>\n",
       "      <th>Page Size</th>\n",
       "      <th>Edit Count</th>\n",
       "      <th>Recent Authors</th>\n",
       "      <th>30 to 99 watchers</th>\n",
       "      <th>100+ watchers</th>\n",
       "      <th>Article Age</th>\n",
       "      <th>Days Since Last Edit</th>\n",
       "      <th>page_views_last30</th>\n",
       "    </tr>\n",
       "  </thead>\n",
       "  <tbody>\n",
       "    <tr>\n",
       "      <th>count</th>\n",
       "      <td>999.000000</td>\n",
       "      <td>999.000000</td>\n",
       "      <td>999.000000</td>\n",
       "      <td>999.000000</td>\n",
       "      <td>999.000000</td>\n",
       "      <td>999.000000</td>\n",
       "      <td>999.000000</td>\n",
       "      <td>999.000000</td>\n",
       "      <td>999.000000</td>\n",
       "    </tr>\n",
       "    <tr>\n",
       "      <th>mean</th>\n",
       "      <td>19.233233</td>\n",
       "      <td>7499.142142</td>\n",
       "      <td>94.548549</td>\n",
       "      <td>0.397397</td>\n",
       "      <td>0.029029</td>\n",
       "      <td>0.010010</td>\n",
       "      <td>2837.906907</td>\n",
       "      <td>217.468468</td>\n",
       "      <td>1272.015015</td>\n",
       "    </tr>\n",
       "    <tr>\n",
       "      <th>std</th>\n",
       "      <td>10.468612</td>\n",
       "      <td>12978.110256</td>\n",
       "      <td>272.062731</td>\n",
       "      <td>1.388196</td>\n",
       "      <td>0.167972</td>\n",
       "      <td>0.099598</td>\n",
       "      <td>1428.880006</td>\n",
       "      <td>288.945583</td>\n",
       "      <td>7201.886062</td>\n",
       "    </tr>\n",
       "    <tr>\n",
       "      <th>min</th>\n",
       "      <td>1.000000</td>\n",
       "      <td>231.000000</td>\n",
       "      <td>1.000000</td>\n",
       "      <td>0.000000</td>\n",
       "      <td>0.000000</td>\n",
       "      <td>0.000000</td>\n",
       "      <td>4.000000</td>\n",
       "      <td>0.000000</td>\n",
       "      <td>10.000000</td>\n",
       "    </tr>\n",
       "    <tr>\n",
       "      <th>25%</th>\n",
       "      <td>12.000000</td>\n",
       "      <td>1907.000000</td>\n",
       "      <td>14.000000</td>\n",
       "      <td>0.000000</td>\n",
       "      <td>0.000000</td>\n",
       "      <td>0.000000</td>\n",
       "      <td>1618.000000</td>\n",
       "      <td>42.000000</td>\n",
       "      <td>47.000000</td>\n",
       "    </tr>\n",
       "    <tr>\n",
       "      <th>50%</th>\n",
       "      <td>16.000000</td>\n",
       "      <td>3631.000000</td>\n",
       "      <td>30.000000</td>\n",
       "      <td>0.000000</td>\n",
       "      <td>0.000000</td>\n",
       "      <td>0.000000</td>\n",
       "      <td>3060.000000</td>\n",
       "      <td>128.000000</td>\n",
       "      <td>96.000000</td>\n",
       "    </tr>\n",
       "    <tr>\n",
       "      <th>75%</th>\n",
       "      <td>24.000000</td>\n",
       "      <td>7434.000000</td>\n",
       "      <td>69.500000</td>\n",
       "      <td>0.000000</td>\n",
       "      <td>0.000000</td>\n",
       "      <td>0.000000</td>\n",
       "      <td>4006.500000</td>\n",
       "      <td>282.000000</td>\n",
       "      <td>395.000000</td>\n",
       "    </tr>\n",
       "    <tr>\n",
       "      <th>max</th>\n",
       "      <td>83.000000</td>\n",
       "      <td>170306.000000</td>\n",
       "      <td>3467.000000</td>\n",
       "      <td>24.000000</td>\n",
       "      <td>1.000000</td>\n",
       "      <td>1.000000</td>\n",
       "      <td>5959.000000</td>\n",
       "      <td>2447.000000</td>\n",
       "      <td>143365.000000</td>\n",
       "    </tr>\n",
       "  </tbody>\n",
       "</table>\n",
       "</div>"
      ],
      "text/plain": [
       "       Title Length      Page Size   Edit Count  Recent Authors  \\\n",
       "count    999.000000     999.000000   999.000000      999.000000   \n",
       "mean      19.233233    7499.142142    94.548549        0.397397   \n",
       "std       10.468612   12978.110256   272.062731        1.388196   \n",
       "min        1.000000     231.000000     1.000000        0.000000   \n",
       "25%       12.000000    1907.000000    14.000000        0.000000   \n",
       "50%       16.000000    3631.000000    30.000000        0.000000   \n",
       "75%       24.000000    7434.000000    69.500000        0.000000   \n",
       "max       83.000000  170306.000000  3467.000000       24.000000   \n",
       "\n",
       "       30 to 99 watchers  100+ watchers  Article Age  Days Since Last Edit  \\\n",
       "count         999.000000     999.000000   999.000000            999.000000   \n",
       "mean            0.029029       0.010010  2837.906907            217.468468   \n",
       "std             0.167972       0.099598  1428.880006            288.945583   \n",
       "min             0.000000       0.000000     4.000000              0.000000   \n",
       "25%             0.000000       0.000000  1618.000000             42.000000   \n",
       "50%             0.000000       0.000000  3060.000000            128.000000   \n",
       "75%             0.000000       0.000000  4006.500000            282.000000   \n",
       "max             1.000000       1.000000  5959.000000           2447.000000   \n",
       "\n",
       "       page_views_last30  \n",
       "count         999.000000  \n",
       "mean         1272.015015  \n",
       "std          7201.886062  \n",
       "min            10.000000  \n",
       "25%            47.000000  \n",
       "50%            96.000000  \n",
       "75%           395.000000  \n",
       "max        143365.000000  "
      ]
     },
     "execution_count": 12,
     "metadata": {},
     "output_type": "execute_result"
    }
   ],
   "source": [
    "print(f\"We have {len(num_only.columns)-1} features to predict our target\")\n",
    "num_only.describe()"
   ]
  },
  {
   "cell_type": "code",
   "execution_count": 13,
   "metadata": {
    "ExecuteTime": {
     "end_time": "2018-01-26T01:31:54.623318Z",
     "start_time": "2018-01-26T01:31:53.337460Z"
    },
    "scrolled": true
   },
   "outputs": [
    {
     "data": {
      "image/png": "[encoded data removed]",
      "text/plain": [
       "<matplotlib.figure.Figure at 0x100df3be0>"
      ]
     },
     "metadata": {},
     "output_type": "display_data"
    }
   ],
   "source": [
    "# Let's check to see how our variables are distributed\n",
    "num_only.hist(figsize = (20,12));"
   ]
  },
  {
   "cell_type": "markdown",
   "metadata": {},
   "source": [
    "Our variables aren't normal. Let's change that."
   ]
  },
  {
   "cell_type": "markdown",
   "metadata": {
    "ExecuteTime": {
     "end_time": "2018-01-25T22:04:16.400920Z",
     "start_time": "2018-01-25T22:04:16.395387Z"
    }
   },
   "source": [
    "#### Normalization"
   ]
  },
  {
   "cell_type": "code",
   "execution_count": 14,
   "metadata": {
    "ExecuteTime": {
     "end_time": "2018-01-26T01:31:55.439487Z",
     "start_time": "2018-01-26T01:31:55.426874Z"
    },
    "collapsed": true
   },
   "outputs": [],
   "source": [
    "# Normalizing\n",
    "df_trans = preprocessing.normalize(num_only,axis=0)\n",
    "\n",
    "# turn back in DF\n",
    "df_trans = pd.DataFrame(df_trans,columns=num_only.columns)\n",
    "\n",
    "y_trans=df_trans.iloc[:,-1]\n",
    "X_trans=df_trans.iloc[:,:-1]"
   ]
  },
  {
   "cell_type": "code",
   "execution_count": 15,
   "metadata": {
    "ExecuteTime": {
     "end_time": "2018-01-26T01:31:59.439044Z",
     "start_time": "2018-01-26T01:31:59.430468Z"
    }
   },
   "outputs": [
    {
     "data": {
      "text/plain": [
       "0      0.002497\n",
       "1      0.000216\n",
       "2      0.000182\n",
       "996    0.000121\n",
       "997    0.001991\n",
       "998    0.000294\n",
       "Name: page_views_last30, dtype: float64"
      ]
     },
     "execution_count": 15,
     "metadata": {},
     "output_type": "execute_result"
    }
   ],
   "source": [
    "ends(y_trans,3)"
   ]
  },
  {
   "cell_type": "code",
   "execution_count": 16,
   "metadata": {
    "ExecuteTime": {
     "end_time": "2018-01-26T01:32:00.142647Z",
     "start_time": "2018-01-26T01:32:00.124983Z"
    }
   },
   "outputs": [
    {
     "data": {
      "text/html": [
       "<div>\n",
       "<style>\n",
       "    .dataframe thead tr:only-child th {\n",
       "        text-align: right;\n",
       "    }\n",
       "\n",
       "    .dataframe thead th {\n",
       "        text-align: left;\n",
       "    }\n",
       "\n",
       "    .dataframe tbody tr th {\n",
       "        vertical-align: top;\n",
       "    }\n",
       "</style>\n",
       "<table border=\"1\" class=\"dataframe\">\n",
       "  <thead>\n",
       "    <tr style=\"text-align: right;\">\n",
       "      <th></th>\n",
       "      <th>Title Length</th>\n",
       "      <th>Page Size</th>\n",
       "      <th>Edit Count</th>\n",
       "      <th>Recent Authors</th>\n",
       "      <th>30 to 99 watchers</th>\n",
       "      <th>100+ watchers</th>\n",
       "      <th>Article Age</th>\n",
       "      <th>Days Since Last Edit</th>\n",
       "    </tr>\n",
       "  </thead>\n",
       "  <tbody>\n",
       "    <tr>\n",
       "      <th>0</th>\n",
       "      <td>0.024565</td>\n",
       "      <td>0.008136</td>\n",
       "      <td>0.007363</td>\n",
       "      <td>0.021921</td>\n",
       "      <td>0.0</td>\n",
       "      <td>0.0</td>\n",
       "      <td>0.045820</td>\n",
       "      <td>0.000263</td>\n",
       "    </tr>\n",
       "    <tr>\n",
       "      <th>1</th>\n",
       "      <td>0.017340</td>\n",
       "      <td>0.009272</td>\n",
       "      <td>0.001978</td>\n",
       "      <td>0.000000</td>\n",
       "      <td>0.0</td>\n",
       "      <td>0.0</td>\n",
       "      <td>0.012130</td>\n",
       "      <td>0.012952</td>\n",
       "    </tr>\n",
       "    <tr>\n",
       "      <th>2</th>\n",
       "      <td>0.034680</td>\n",
       "      <td>0.005220</td>\n",
       "      <td>0.001978</td>\n",
       "      <td>0.000000</td>\n",
       "      <td>0.0</td>\n",
       "      <td>0.0</td>\n",
       "      <td>0.020106</td>\n",
       "      <td>0.008751</td>\n",
       "    </tr>\n",
       "    <tr>\n",
       "      <th>996</th>\n",
       "      <td>0.028900</td>\n",
       "      <td>0.002061</td>\n",
       "      <td>0.000879</td>\n",
       "      <td>0.000000</td>\n",
       "      <td>0.0</td>\n",
       "      <td>0.0</td>\n",
       "      <td>0.008714</td>\n",
       "      <td>0.020128</td>\n",
       "    </tr>\n",
       "    <tr>\n",
       "      <th>997</th>\n",
       "      <td>0.017340</td>\n",
       "      <td>0.005621</td>\n",
       "      <td>0.004396</td>\n",
       "      <td>0.000000</td>\n",
       "      <td>0.0</td>\n",
       "      <td>0.0</td>\n",
       "      <td>0.042284</td>\n",
       "      <td>0.007701</td>\n",
       "    </tr>\n",
       "    <tr>\n",
       "      <th>998</th>\n",
       "      <td>0.034680</td>\n",
       "      <td>0.010666</td>\n",
       "      <td>0.005495</td>\n",
       "      <td>0.000000</td>\n",
       "      <td>0.0</td>\n",
       "      <td>0.0</td>\n",
       "      <td>0.045650</td>\n",
       "      <td>0.048746</td>\n",
       "    </tr>\n",
       "  </tbody>\n",
       "</table>\n",
       "</div>"
      ],
      "text/plain": [
       "     Title Length  Page Size  Edit Count  Recent Authors  30 to 99 watchers  \\\n",
       "0        0.024565   0.008136    0.007363        0.021921                0.0   \n",
       "1        0.017340   0.009272    0.001978        0.000000                0.0   \n",
       "2        0.034680   0.005220    0.001978        0.000000                0.0   \n",
       "996      0.028900   0.002061    0.000879        0.000000                0.0   \n",
       "997      0.017340   0.005621    0.004396        0.000000                0.0   \n",
       "998      0.034680   0.010666    0.005495        0.000000                0.0   \n",
       "\n",
       "     100+ watchers  Article Age  Days Since Last Edit  \n",
       "0              0.0     0.045820              0.000263  \n",
       "1              0.0     0.012130              0.012952  \n",
       "2              0.0     0.020106              0.008751  \n",
       "996            0.0     0.008714              0.020128  \n",
       "997            0.0     0.042284              0.007701  \n",
       "998            0.0     0.045650              0.048746  "
      ]
     },
     "execution_count": 16,
     "metadata": {},
     "output_type": "execute_result"
    }
   ],
   "source": [
    "ends(X_trans,3)"
   ]
  },
  {
   "cell_type": "code",
   "execution_count": 17,
   "metadata": {
    "ExecuteTime": {
     "end_time": "2018-01-26T01:32:01.005061Z",
     "start_time": "2018-01-26T01:32:00.958496Z"
    },
    "scrolled": true
   },
   "outputs": [
    {
     "name": "stdout",
     "output_type": "stream",
     "text": [
      "Title Length \n",
      "lambda: 0.156350421429 \n",
      "\n",
      "Page Size \n",
      "lambda: -0.145866424674 \n",
      "\n",
      "Edit Count \n",
      "lambda: -0.103047612173 \n",
      "\n",
      "Recent Authors : Data not positive\n",
      "\n",
      "30 to 99 watchers : Data not positive\n",
      "\n",
      "100+ watchers : Data not positive\n",
      "\n",
      "Article Age \n",
      "lambda: 0.893797785752 \n",
      "\n",
      "Days Since Last Edit : Data not positive\n",
      "\n",
      "page_views_last30 \n",
      "lambda: -0.298185066483 \n",
      "\n"
     ]
    }
   ],
   "source": [
    "# Box-cox\n",
    "num_only2 = df_trans[[\"Title Length\",\n",
    "              \"Page Size\",\n",
    "              \"Edit Count\",\n",
    "              \"Recent Authors\",\n",
    "              \"30 to 99 watchers\",\n",
    "              \"100+ watchers\",\n",
    "              \"Article Age\",\n",
    "              \"Days Since Last Edit\",\n",
    "              \"page_views_last30\"]]\n",
    "\n",
    "for column in num_only2.columns: # special thanks to Mauro for helping me with the code below\n",
    "    try:\n",
    "        lamb = stats.boxcox_normmax(num_only2[column], brack=(-1.9, 1.9), method='mle')\n",
    "        print(column,\"\\nlambda:\",lamb,\"\\n\")\n",
    "        num_only2[column+\"_bc\"] = (np.power(num_only2[column],lamb)-1)/lamb\n",
    "    except:\n",
    "        print(column,\": Data not positive\\n\")"
   ]
  },
  {
   "cell_type": "code",
   "execution_count": 18,
   "metadata": {
    "ExecuteTime": {
     "end_time": "2018-01-26T01:32:03.949753Z",
     "start_time": "2018-01-26T01:32:03.938740Z"
    },
    "collapsed": true
   },
   "outputs": [],
   "source": [
    "## let's delete the old columns\n",
    "try:\n",
    "    del num_only2[\"Title Length\"]\n",
    "    del num_only2[\"Page Size\"]\n",
    "    del num_only2[\"Edit Count\"]\n",
    "    del num_only2[\"Article Age\"]\n",
    "    del num_only2[\"page_views_last30\"]\n",
    "except:\n",
    "    print(\"Columns already deleted\")"
   ]
  },
  {
   "cell_type": "markdown",
   "metadata": {},
   "source": [
    "The histograms - things look a lot better now!"
   ]
  },
  {
   "cell_type": "code",
   "execution_count": 19,
   "metadata": {
    "ExecuteTime": {
     "end_time": "2018-01-26T01:32:07.106714Z",
     "start_time": "2018-01-26T01:32:05.750127Z"
    },
    "scrolled": false
   },
   "outputs": [
    {
     "data": {
      "image/png": "[encoded data removed]",
      "text/plain": [
       "<matplotlib.figure.Figure at 0x1c0ef5a9b0>"
      ]
     },
     "metadata": {},
     "output_type": "display_data"
    }
   ],
   "source": [
    "num_only2.hist(figsize = (20,12));"
   ]
  },
  {
   "cell_type": "markdown",
   "metadata": {},
   "source": [
    "#### Correlations"
   ]
  },
  {
   "cell_type": "code",
   "execution_count": 20,
   "metadata": {
    "ExecuteTime": {
     "end_time": "2018-01-26T01:32:09.925310Z",
     "start_time": "2018-01-26T01:32:09.344307Z"
    },
    "scrolled": false
   },
   "outputs": [
    {
     "data": {
      "image/png": "[encoded data removed]",
      "text/plain": [
       "<matplotlib.figure.Figure at 0x1c12d7eb00>"
      ]
     },
     "metadata": {},
     "output_type": "display_data"
    }
   ],
   "source": [
    "corrs = num_only2.corr()\n",
    "\n",
    "fig, ax = plt.subplots()\n",
    "fig.set_size_inches(10, 10)\n",
    "sns.heatmap(corrs,\n",
    "            vmin = -1,\n",
    "            vmax = 1,\n",
    "            center = 0,\n",
    "            annot = True);\n",
    "\n",
    "# It looks like page size, edit count, and article age are the strongest correlates!"
   ]
  },
  {
   "cell_type": "markdown",
   "metadata": {},
   "source": [
    "#### A preliminary model"
   ]
  },
  {
   "cell_type": "code",
   "execution_count": 21,
   "metadata": {
    "ExecuteTime": {
     "end_time": "2018-01-26T01:32:13.255647Z",
     "start_time": "2018-01-26T01:32:13.249753Z"
    },
    "collapsed": true
   },
   "outputs": [],
   "source": [
    "x = num_only2.iloc[:,:-1]\n",
    "y = num_only2.iloc[:,-1]"
   ]
  },
  {
   "cell_type": "code",
   "execution_count": 22,
   "metadata": {
    "ExecuteTime": {
     "end_time": "2018-01-26T01:32:16.087187Z",
     "start_time": "2018-01-26T01:32:16.062403Z"
    }
   },
   "outputs": [
    {
     "name": "stdout",
     "output_type": "stream",
     "text": [
      "R2 is: 0.577004084107 - almost 58% of variance in page views is explained by my features\n",
      "\n",
      "In the social sciences, I'd be ecstatic\n",
      "But let's go deeper\n"
     ]
    }
   ],
   "source": [
    "# instantiate our lr object\n",
    "lr1 = LinearRegression()\n",
    "\n",
    "# Fit the model to the full dataset\n",
    "lr1.fit(x, y)\n",
    "\n",
    "# Print out the R^2 for the model against the full dataset\n",
    "print(\"R2 is:\",lr1.score(x,y),\"- almost 58% of variance in page views is explained by my features\\n\")\n",
    "print(\"In the social sciences, I'd be ecstatic\")\n",
    "print(\"But let's go deeper\")"
   ]
  },
  {
   "cell_type": "markdown",
   "metadata": {
    "ExecuteTime": {
     "end_time": "2018-01-23T23:40:45.282694Z",
     "start_time": "2018-01-23T23:40:45.278168Z"
    }
   },
   "source": [
    "##### Digging a little deeper..."
   ]
  },
  {
   "cell_type": "code",
   "execution_count": 23,
   "metadata": {
    "ExecuteTime": {
     "end_time": "2018-01-26T01:32:22.070820Z",
     "start_time": "2018-01-26T01:32:22.028095Z"
    },
    "scrolled": false
   },
   "outputs": [
    {
     "name": "stdout",
     "output_type": "stream",
     "text": [
      "Let's get some more info about our model:\n"
     ]
    },
    {
     "data": {
      "text/html": [
       "<table class=\"simpletable\">\n",
       "<caption>OLS Regression Results</caption>\n",
       "<tr>\n",
       "  <th>Dep. Variable:</th>    <td>page_views_last30_bc</td> <th>  R-squared:         </th> <td>   0.577</td> \n",
       "</tr>\n",
       "<tr>\n",
       "  <th>Model:</th>                     <td>OLS</td>         <th>  Adj. R-squared:    </th> <td>   0.574</td> \n",
       "</tr>\n",
       "<tr>\n",
       "  <th>Method:</th>               <td>Least Squares</td>    <th>  F-statistic:       </th> <td>   168.8</td> \n",
       "</tr>\n",
       "<tr>\n",
       "  <th>Date:</th>               <td>Thu, 25 Jan 2018</td>   <th>  Prob (F-statistic):</th> <td>4.29e-179</td>\n",
       "</tr>\n",
       "<tr>\n",
       "  <th>Time:</th>                   <td>20:32:22</td>       <th>  Log-Likelihood:    </th> <td> -3510.0</td> \n",
       "</tr>\n",
       "<tr>\n",
       "  <th>No. Observations:</th>        <td>   999</td>        <th>  AIC:               </th> <td>   7038.</td> \n",
       "</tr>\n",
       "<tr>\n",
       "  <th>Df Residuals:</th>            <td>   990</td>        <th>  BIC:               </th> <td>   7082.</td> \n",
       "</tr>\n",
       "<tr>\n",
       "  <th>Df Model:</th>                <td>     8</td>        <th>                     </th>     <td> </td>    \n",
       "</tr>\n",
       "<tr>\n",
       "  <th>Covariance Type:</th>        <td>nonrobust</td>      <th>                     </th>     <td> </td>    \n",
       "</tr>\n",
       "</table>\n",
       "<table class=\"simpletable\">\n",
       "<tr>\n",
       "            <td></td>              <th>coef</th>     <th>std err</th>      <th>t</th>      <th>P>|t|</th>  <th>[0.025</th>    <th>0.975]</th>  \n",
       "</tr>\n",
       "<tr>\n",
       "  <th>const</th>                <td>    1.3605</td> <td>   17.637</td> <td>    0.077</td> <td> 0.939</td> <td>  -33.249</td> <td>   35.970</td>\n",
       "</tr>\n",
       "<tr>\n",
       "  <th>Recent Authors</th>       <td>   32.0884</td> <td>    9.844</td> <td>    3.260</td> <td> 0.001</td> <td>   12.770</td> <td>   51.406</td>\n",
       "</tr>\n",
       "<tr>\n",
       "  <th>30 to 99 watchers</th>    <td>   39.0192</td> <td>    8.752</td> <td>    4.458</td> <td> 0.000</td> <td>   21.844</td> <td>   56.195</td>\n",
       "</tr>\n",
       "<tr>\n",
       "  <th>100+ watchers</th>        <td>   -3.8296</td> <td>    9.329</td> <td>   -0.410</td> <td> 0.682</td> <td>  -22.137</td> <td>   14.478</td>\n",
       "</tr>\n",
       "<tr>\n",
       "  <th>Days Since Last Edit</th> <td>  -11.9709</td> <td>   11.607</td> <td>   -1.031</td> <td> 0.303</td> <td>  -34.748</td> <td>   10.806</td>\n",
       "</tr>\n",
       "<tr>\n",
       "  <th>Title Length_bc</th>      <td>   -2.4494</td> <td>    0.880</td> <td>   -2.782</td> <td> 0.006</td> <td>   -4.177</td> <td>   -0.722</td>\n",
       "</tr>\n",
       "<tr>\n",
       "  <th>Page Size_bc</th>         <td>    0.8293</td> <td>    0.187</td> <td>    4.445</td> <td> 0.000</td> <td>    0.463</td> <td>    1.195</td>\n",
       "</tr>\n",
       "<tr>\n",
       "  <th>Edit Count_bc</th>        <td>    3.1202</td> <td>    0.217</td> <td>   14.385</td> <td> 0.000</td> <td>    2.695</td> <td>    3.546</td>\n",
       "</tr>\n",
       "<tr>\n",
       "  <th>Article Age_bc</th>       <td>    7.0019</td> <td>   16.753</td> <td>    0.418</td> <td> 0.676</td> <td>  -25.873</td> <td>   39.877</td>\n",
       "</tr>\n",
       "</table>\n",
       "<table class=\"simpletable\">\n",
       "<tr>\n",
       "  <th>Omnibus:</th>       <td> 9.723</td> <th>  Durbin-Watson:     </th> <td>   2.007</td>\n",
       "</tr>\n",
       "<tr>\n",
       "  <th>Prob(Omnibus):</th> <td> 0.008</td> <th>  Jarque-Bera (JB):  </th> <td>   9.694</td>\n",
       "</tr>\n",
       "<tr>\n",
       "  <th>Skew:</th>          <td> 0.232</td> <th>  Prob(JB):          </th> <td> 0.00785</td>\n",
       "</tr>\n",
       "<tr>\n",
       "  <th>Kurtosis:</th>      <td> 3.135</td> <th>  Cond. No.          </th> <td>1.07e+03</td>\n",
       "</tr>\n",
       "</table>"
      ],
      "text/plain": [
       "<class 'statsmodels.iolib.summary.Summary'>\n",
       "\"\"\"\n",
       "                             OLS Regression Results                             \n",
       "================================================================================\n",
       "Dep. Variable:     page_views_last30_bc   R-squared:                       0.577\n",
       "Model:                              OLS   Adj. R-squared:                  0.574\n",
       "Method:                   Least Squares   F-statistic:                     168.8\n",
       "Date:                  Thu, 25 Jan 2018   Prob (F-statistic):          4.29e-179\n",
       "Time:                          20:32:22   Log-Likelihood:                -3510.0\n",
       "No. Observations:                   999   AIC:                             7038.\n",
       "Df Residuals:                       990   BIC:                             7082.\n",
       "Df Model:                             8                                         \n",
       "Covariance Type:              nonrobust                                         \n",
       "========================================================================================\n",
       "                           coef    std err          t      P>|t|      [0.025      0.975]\n",
       "----------------------------------------------------------------------------------------\n",
       "const                    1.3605     17.637      0.077      0.939     -33.249      35.970\n",
       "Recent Authors          32.0884      9.844      3.260      0.001      12.770      51.406\n",
       "30 to 99 watchers       39.0192      8.752      4.458      0.000      21.844      56.195\n",
       "100+ watchers           -3.8296      9.329     -0.410      0.682     -22.137      14.478\n",
       "Days Since Last Edit   -11.9709     11.607     -1.031      0.303     -34.748      10.806\n",
       "Title Length_bc         -2.4494      0.880     -2.782      0.006      -4.177      -0.722\n",
       "Page Size_bc             0.8293      0.187      4.445      0.000       0.463       1.195\n",
       "Edit Count_bc            3.1202      0.217     14.385      0.000       2.695       3.546\n",
       "Article Age_bc           7.0019     16.753      0.418      0.676     -25.873      39.877\n",
       "==============================================================================\n",
       "Omnibus:                        9.723   Durbin-Watson:                   2.007\n",
       "Prob(Omnibus):                  0.008   Jarque-Bera (JB):                9.694\n",
       "Skew:                           0.232   Prob(JB):                      0.00785\n",
       "Kurtosis:                       3.135   Cond. No.                     1.07e+03\n",
       "==============================================================================\n",
       "\n",
       "Warnings:\n",
       "[1] Standard Errors assume that the covariance matrix of the errors is correctly specified.\n",
       "[2] The condition number is large, 1.07e+03. This might indicate that there are\n",
       "strong multicollinearity or other numerical problems.\n",
       "\"\"\""
      ]
     },
     "execution_count": 23,
     "metadata": {},
     "output_type": "execute_result"
    }
   ],
   "source": [
    "print(\"Let's get some more info about our model:\")\n",
    "X = sm.tools.add_constant(x)\n",
    "\n",
    "model_1 = sm.OLS(y, X)\n",
    "model_1.fit().summary()\n",
    "# These stats are too good to be true. Let's go through our assumptions"
   ]
  },
  {
   "cell_type": "markdown",
   "metadata": {},
   "source": [
    "### Feature selection, feature engineering, and more models\n",
    "Let's see who's better at feature selection: Jon or sklearn"
   ]
  },
  {
   "cell_type": "markdown",
   "metadata": {
    "ExecuteTime": {
     "end_time": "2018-01-25T20:16:00.232316Z",
     "start_time": "2018-01-25T20:16:00.228460Z"
    }
   },
   "source": [
    "#### Manual feature selection approach\n",
    "\n",
    "I went about this a few ways:\n",
    "\n",
    "1. What isn't contributing much to the model?\n",
    "    - Whether or not an article has 100 or more watchers: let's remove this altogether\n",
    "    - Days since last edit\n",
    "    - Article Age\n",
    "    \n",
    "2. What's problematic from a conceptual standpoint?\n",
    "    - Audrey pointed out that, when predicting the number of pageviews for a given 30 day window,    \n",
    "    I wouldn't also know the number of authors in that window. I didn't have time to make a staggered  \n",
    "    timeseries, so let's remove this too.\n",
    "    \n",
    "3. This leaves us with just:\n",
    "    - whether an article has at least 30 but less than 100 watchers\n",
    "    - title length\n",
    "    - page_size\n",
    "    - edit count\n",
    "    \n",
    "Can we still make a model that explains at least a majority of the variance? I'm less optimistic"
   ]
  },
  {
   "cell_type": "code",
   "execution_count": 24,
   "metadata": {
    "ExecuteTime": {
     "end_time": "2018-01-26T01:32:26.331704Z",
     "start_time": "2018-01-26T01:32:26.289536Z"
    },
    "scrolled": true
   },
   "outputs": [
    {
     "name": "stdout",
     "output_type": "stream",
     "text": [
      "Let's get some more info about our model:\n"
     ]
    },
    {
     "data": {
      "text/html": [
       "<table class=\"simpletable\">\n",
       "<caption>OLS Regression Results</caption>\n",
       "<tr>\n",
       "  <th>Dep. Variable:</th>    <td>page_views_last30_bc</td> <th>  R-squared:         </th> <td>   0.571</td> \n",
       "</tr>\n",
       "<tr>\n",
       "  <th>Model:</th>                     <td>OLS</td>         <th>  Adj. R-squared:    </th> <td>   0.570</td> \n",
       "</tr>\n",
       "<tr>\n",
       "  <th>Method:</th>               <td>Least Squares</td>    <th>  F-statistic:       </th> <td>   331.2</td> \n",
       "</tr>\n",
       "<tr>\n",
       "  <th>Date:</th>               <td>Thu, 25 Jan 2018</td>   <th>  Prob (F-statistic):</th> <td>4.02e-181</td>\n",
       "</tr>\n",
       "<tr>\n",
       "  <th>Time:</th>                   <td>20:32:26</td>       <th>  Log-Likelihood:    </th> <td> -3516.6</td> \n",
       "</tr>\n",
       "<tr>\n",
       "  <th>No. Observations:</th>        <td>   999</td>        <th>  AIC:               </th> <td>   7043.</td> \n",
       "</tr>\n",
       "<tr>\n",
       "  <th>Df Residuals:</th>            <td>   994</td>        <th>  BIC:               </th> <td>   7068.</td> \n",
       "</tr>\n",
       "<tr>\n",
       "  <th>Df Model:</th>                <td>     4</td>        <th>                     </th>     <td> </td>    \n",
       "</tr>\n",
       "<tr>\n",
       "  <th>Covariance Type:</th>        <td>nonrobust</td>      <th>                     </th>     <td> </td>    \n",
       "</tr>\n",
       "</table>\n",
       "<table class=\"simpletable\">\n",
       "<tr>\n",
       "          <td></td>             <th>coef</th>     <th>std err</th>      <th>t</th>      <th>P>|t|</th>  <th>[0.025</th>    <th>0.975]</th>  \n",
       "</tr>\n",
       "<tr>\n",
       "  <th>const</th>             <td>   -4.8382</td> <td>    2.680</td> <td>   -1.805</td> <td> 0.071</td> <td>  -10.098</td> <td>    0.421</td>\n",
       "</tr>\n",
       "<tr>\n",
       "  <th>30 to 99 watchers</th> <td>   38.0530</td> <td>    8.733</td> <td>    4.358</td> <td> 0.000</td> <td>   20.916</td> <td>   55.190</td>\n",
       "</tr>\n",
       "<tr>\n",
       "  <th>Title Length_bc</th>   <td>   -2.6217</td> <td>    0.881</td> <td>   -2.976</td> <td> 0.003</td> <td>   -4.351</td> <td>   -0.893</td>\n",
       "</tr>\n",
       "<tr>\n",
       "  <th>Page Size_bc</th>      <td>    0.8816</td> <td>    0.177</td> <td>    4.975</td> <td> 0.000</td> <td>    0.534</td> <td>    1.229</td>\n",
       "</tr>\n",
       "<tr>\n",
       "  <th>Edit Count_bc</th>     <td>    3.2981</td> <td>    0.162</td> <td>   20.386</td> <td> 0.000</td> <td>    2.981</td> <td>    3.616</td>\n",
       "</tr>\n",
       "</table>\n",
       "<table class=\"simpletable\">\n",
       "<tr>\n",
       "  <th>Omnibus:</th>       <td>11.034</td> <th>  Durbin-Watson:     </th> <td>   2.006</td>\n",
       "</tr>\n",
       "<tr>\n",
       "  <th>Prob(Omnibus):</th> <td> 0.004</td> <th>  Jarque-Bera (JB):  </th> <td>  11.072</td>\n",
       "</tr>\n",
       "<tr>\n",
       "  <th>Skew:</th>          <td> 0.244</td> <th>  Prob(JB):          </th> <td> 0.00394</td>\n",
       "</tr>\n",
       "<tr>\n",
       "  <th>Kurtosis:</th>      <td> 3.168</td> <th>  Cond. No.          </th> <td>    380.</td>\n",
       "</tr>\n",
       "</table>"
      ],
      "text/plain": [
       "<class 'statsmodels.iolib.summary.Summary'>\n",
       "\"\"\"\n",
       "                             OLS Regression Results                             \n",
       "================================================================================\n",
       "Dep. Variable:     page_views_last30_bc   R-squared:                       0.571\n",
       "Model:                              OLS   Adj. R-squared:                  0.570\n",
       "Method:                   Least Squares   F-statistic:                     331.2\n",
       "Date:                  Thu, 25 Jan 2018   Prob (F-statistic):          4.02e-181\n",
       "Time:                          20:32:26   Log-Likelihood:                -3516.6\n",
       "No. Observations:                   999   AIC:                             7043.\n",
       "Df Residuals:                       994   BIC:                             7068.\n",
       "Df Model:                             4                                         \n",
       "Covariance Type:              nonrobust                                         \n",
       "=====================================================================================\n",
       "                        coef    std err          t      P>|t|      [0.025      0.975]\n",
       "-------------------------------------------------------------------------------------\n",
       "const                -4.8382      2.680     -1.805      0.071     -10.098       0.421\n",
       "30 to 99 watchers    38.0530      8.733      4.358      0.000      20.916      55.190\n",
       "Title Length_bc      -2.6217      0.881     -2.976      0.003      -4.351      -0.893\n",
       "Page Size_bc          0.8816      0.177      4.975      0.000       0.534       1.229\n",
       "Edit Count_bc         3.2981      0.162     20.386      0.000       2.981       3.616\n",
       "==============================================================================\n",
       "Omnibus:                       11.034   Durbin-Watson:                   2.006\n",
       "Prob(Omnibus):                  0.004   Jarque-Bera (JB):               11.072\n",
       "Skew:                           0.244   Prob(JB):                      0.00394\n",
       "Kurtosis:                       3.168   Cond. No.                         380.\n",
       "==============================================================================\n",
       "\n",
       "Warnings:\n",
       "[1] Standard Errors assume that the covariance matrix of the errors is correctly specified.\n",
       "\"\"\""
      ]
     },
     "execution_count": 24,
     "metadata": {},
     "output_type": "execute_result"
    }
   ],
   "source": [
    "# New x and y\n",
    "x2 = num_only2[[\"30 to 99 watchers\", \"Title Length_bc\", \"Page Size_bc\", \"Edit Count_bc\"]]\n",
    "y2 = num_only2.iloc[:,-1]\n",
    "\n",
    "print(\"Let's get some more info about our model:\")\n",
    "X2 = sm.tools.add_constant(x2)\n",
    "model_2 = sm.OLS(y2, X2).fit()\n",
    "model_2.summary()\n",
    "\n",
    "# we... hardly lost anything? I'm surprised."
   ]
  },
  {
   "cell_type": "markdown",
   "metadata": {
    "ExecuteTime": {
     "end_time": "2018-01-24T23:54:00.737273Z",
     "start_time": "2018-01-24T23:54:00.733202Z"
    }
   },
   "source": [
    "#### Train-Test Split\n",
    "\n",
    "Ok, let's ratchet it up a notch. Let's see how this model deals with unseen data.  "
   ]
  },
  {
   "cell_type": "code",
   "execution_count": 182,
   "metadata": {
    "ExecuteTime": {
     "end_time": "2018-01-26T12:46:23.623487Z",
     "start_time": "2018-01-26T12:46:23.388080Z"
    }
   },
   "outputs": [
    {
     "name": "stdout",
     "output_type": "stream",
     "text": [
      "R-squared is now: 0.597984445696\n"
     ]
    },
    {
     "data": {
      "image/png": "[encoded data removed]",
      "text/plain": [
       "<matplotlib.figure.Figure at 0x1c1405cba8>"
      ]
     },
     "metadata": {},
     "output_type": "display_data"
    }
   ],
   "source": [
    "X2_train, X2_test, y2_train, y2_test = train_test_split(X2, y2, test_size=0.3)\n",
    "\n",
    "lr2 = LinearRegression()\n",
    "lr2.fit(X2_train, y2_train)\n",
    "print('R-squared is now:',lr2.score(X2_test, y2_test)) \n",
    "\n",
    "# Let's plot:\n",
    "# lr3 = LinearRegression()\n",
    "# lr3.fit(X2_train, y2_train)\n",
    "predictions = lr2.predict(X2_test)\n",
    "\n",
    "plt.figure(figsize=(10,8))\n",
    "plt.scatter(y2_test, predictions)\n",
    "\n",
    "plt.xlabel(\"Observed Y2\")\n",
    "plt.ylabel(\"Predicted Y2\")\n",
    "\n",
    "plt.title(f\"Model r-squared: {round(lr2.score(X2_test, y2_test),3)}\");"
   ]
  },
  {
   "cell_type": "markdown",
   "metadata": {},
   "source": [
    "#### Polynomial features pipeline"
   ]
  },
  {
   "cell_type": "code",
   "execution_count": 26,
   "metadata": {
    "ExecuteTime": {
     "end_time": "2018-01-26T01:32:42.410742Z",
     "start_time": "2018-01-26T01:32:41.303902Z"
    }
   },
   "outputs": [
    {
     "name": "stdout",
     "output_type": "stream",
     "text": [
      "We are overfitting after x degrees, but polynomials don't do much anyway!\n"
     ]
    },
    {
     "data": {
      "image/png": "[encoded data removed]",
      "text/plain": [
       "<matplotlib.figure.Figure at 0x1c09ebc160>"
      ]
     },
     "metadata": {},
     "output_type": "display_data"
    }
   ],
   "source": [
    "# Step through degrees from 0 to 9 and store the training and test (generalization) error.\n",
    "# create array of zeros,\n",
    "train_error = np.empty(10)\n",
    "test_error = np.empty(10)\n",
    "\n",
    "for degree in range(10):\n",
    "    est = make_pipeline(PolynomialFeatures(degree), LinearRegression())\n",
    "    est.fit(X2_train, y2_train)\n",
    "    train_error[degree] = mean_squared_error(y2_train, est.predict(X2_train))\n",
    "    test_error[degree] = mean_squared_error(y2_test, est.predict(X2_test))\n",
    "\n",
    "# Plot the training and test errors against degree\n",
    "plt.figure(figsize=(8,6))\n",
    "plt.plot(np.arange(10), train_error, color='green', label='train')\n",
    "plt.plot(np.arange(10), test_error, color='red', label='test')\n",
    "# plt.ylim((0.0, 1e0))\n",
    "plt.ylabel('log(mean squared error)')\n",
    "plt.xlabel('degree')\n",
    "plt.legend(loc='upper left');\n",
    "\n",
    "warnings.filterwarnings(\"ignore\")\n",
    "\n",
    "print(\"We are overfitting after x degrees, but polynomials don't do much anyway!\")"
   ]
  },
  {
   "cell_type": "markdown",
   "metadata": {},
   "source": [
    "#### 10-fold cross-validation"
   ]
  },
  {
   "cell_type": "code",
   "execution_count": 168,
   "metadata": {
    "ExecuteTime": {
     "end_time": "2018-01-26T12:41:18.649275Z",
     "start_time": "2018-01-26T12:41:18.619826Z"
    }
   },
   "outputs": [
    {
     "name": "stdout",
     "output_type": "stream",
     "text": [
      "0.565933333331 cool\n"
     ]
    }
   ],
   "source": [
    "lr3 = LinearRegression()\n",
    "scores = cross_val_score(lr3, X2, y2, cv=10, scoring='r2')\n",
    "print(np.mean(scores),\"cool\") "
   ]
  },
  {
   "cell_type": "markdown",
   "metadata": {
    "ExecuteTime": {
     "end_time": "2018-01-25T21:04:23.456046Z",
     "start_time": "2018-01-25T21:04:23.452062Z"
    }
   },
   "source": [
    "#### Cross-validation with Lasso Regularization\n",
    "Time to really pump it up!"
   ]
  },
  {
   "cell_type": "code",
   "execution_count": 28,
   "metadata": {
    "ExecuteTime": {
     "end_time": "2018-01-26T01:32:46.818401Z",
     "start_time": "2018-01-26T01:32:46.813892Z"
    },
    "collapsed": true
   },
   "outputs": [],
   "source": [
    "from sklearn.linear_model import LassoCV"
   ]
  },
  {
   "cell_type": "code",
   "execution_count": 173,
   "metadata": {
    "ExecuteTime": {
     "end_time": "2018-01-26T12:41:31.047498Z",
     "start_time": "2018-01-26T12:41:30.969990Z"
    }
   },
   "outputs": [
    {
     "data": {
      "text/plain": [
       "0.56681620211984773"
      ]
     },
     "execution_count": 173,
     "metadata": {},
     "output_type": "execute_result"
    }
   ],
   "source": [
    "lcv = LassoCV(cv=10)\n",
    "lcv.fit(X2, y2)\n",
    "lcv.score(X2_test,y2_test)"
   ]
  },
  {
   "cell_type": "markdown",
   "metadata": {},
   "source": [
    "Lasso regularization and cross-validation really didn't do anything for me. Let's come back down into the realm of interpretability."
   ]
  },
  {
   "cell_type": "markdown",
   "metadata": {},
   "source": [
    "### Assumption Testing"
   ]
  },
  {
   "cell_type": "markdown",
   "metadata": {},
   "source": [
    "#### Assumption One: Plotting Residuals"
   ]
  },
  {
   "cell_type": "code",
   "execution_count": 184,
   "metadata": {
    "ExecuteTime": {
     "end_time": "2018-01-26T12:48:05.341279Z",
     "start_time": "2018-01-26T12:48:05.145453Z"
    },
    "scrolled": false
   },
   "outputs": [
    {
     "name": "stdout",
     "output_type": "stream",
     "text": [
      "These are the normalized values. Should I have done them with the non-normalized values?\n"
     ]
    },
    {
     "data": {
      "image/png": "[encoded data removed]",
      "text/plain": [
       "<matplotlib.figure.Figure at 0x1c157eedd8>"
      ]
     },
     "metadata": {},
     "output_type": "display_data"
    }
   ],
   "source": [
    "# What does this mean?\n",
    "# going back to model_2.fit() - see 1.6 \"Feature selection...\"\n",
    "model_2.resid.plot(style='co', figsize=(10,6));\n",
    "plt.title(\"My first Residuals Plot wow\")\n",
    "plt.xlabel('Predicted')\n",
    "plt.ylabel('Residuals')\n",
    "plt.axhline(0,color='red',linewidth=2);\n",
    "\n",
    "print('These are the normalized values. Should I have done them with the non-normalized values?')"
   ]
  },
  {
   "cell_type": "code",
   "execution_count": 183,
   "metadata": {
    "ExecuteTime": {
     "end_time": "2018-01-26T12:47:45.906234Z",
     "start_time": "2018-01-26T12:47:45.658264Z"
    },
    "scrolled": true
   },
   "outputs": [
    {
     "name": "stdout",
     "output_type": "stream",
     "text": [
      "IS THIS SHOWING ME SOMETHING DIFFERENT THAN THE ABOVE???\n"
     ]
    },
    {
     "data": {
      "image/png": "[encoded data removed]",
      "text/plain": [
       "<matplotlib.figure.Figure at 0x1c179d0f60>"
      ]
     },
     "metadata": {},
     "output_type": "display_data"
    }
   ],
   "source": [
    "# Another approach\n",
    "lr3 = LinearRegression()\n",
    "model_3 = lr3.fit(x2,y2)\n",
    "\n",
    "final_frame = x2.join(y2)\n",
    "\n",
    "final_frame['predict'] = model_3.predict(x2)\n",
    "final_frame['resid'] = final_frame.page_views_last30_bc - final_frame.predict\n",
    "\n",
    "with sns.axes_style('white'):\n",
    "    plot=final_frame.plot(kind='scatter',\n",
    "                  x='predict',y='resid',alpha=0.2,figsize=(10,6))\n",
    "    \n",
    "print('''IS THIS SHOWING ME SOMETHING DIFFERENT THAN THE ABOVE???''')"
   ]
  },
  {
   "cell_type": "code",
   "execution_count": 193,
   "metadata": {
    "ExecuteTime": {
     "end_time": "2018-01-26T13:54:36.063411Z",
     "start_time": "2018-01-26T13:54:35.773053Z"
    },
    "scrolled": false
   },
   "outputs": [
    {
     "data": {
      "image/png": "[encoded data removed]",
      "text/plain": [
       "<matplotlib.figure.Figure at 0x1c181dcb70>"
      ]
     },
     "metadata": {},
     "output_type": "display_data"
    }
   ],
   "source": [
    "# We can diagnose/ inspect our residual normality assumption using qqplot:\n",
    "\n",
    "plt.figure(figsize = (18,15))\n",
    "stats.probplot(final_frame['resid'], dist=\"norm\", plot=plt)\n",
    "plt.title(\"Normal Q-Q plot\", {'fontsize' : 26 })\n",
    "plt.xlabel(\"Theoretical Quantiles\", {'fontsize' : 23 })\n",
    "plt.ylabel(\"Observed Values\", {'fontsize' : 23 })\n",
    "plt.show()"
   ]
  },
  {
   "cell_type": "markdown",
   "metadata": {},
   "source": [
    "#### Other assumptions:"
   ]
  },
  {
   "cell_type": "code",
   "execution_count": 186,
   "metadata": {
    "ExecuteTime": {
     "end_time": "2018-01-26T12:50:02.165685Z",
     "start_time": "2018-01-26T12:50:01.676646Z"
    }
   },
   "outputs": [
    {
     "name": "stdout",
     "output_type": "stream",
     "text": [
      "The only thing that predicts the residuals are the observed values and themselves\n",
      "Additionally, no features are wholly covarying - edit count and page size have r=.69\n"
     ]
    },
    {
     "data": {
      "image/png": "[encoded data removed]",
      "text/plain": [
       "<matplotlib.figure.Figure at 0x1c17fa9b00>"
      ]
     },
     "metadata": {},
     "output_type": "display_data"
    }
   ],
   "source": [
    "corrs = final_frame.corr()\n",
    "\n",
    "fig, ax = plt.subplots()\n",
    "fig.set_size_inches(10, 10)\n",
    "sns.heatmap(corrs,\n",
    "            vmin = -1,\n",
    "            vmax = 1,\n",
    "            center = 0,\n",
    "            annot = True);\n",
    "\n",
    "print(\"The only thing that predicts the residuals are the observed values and themselves\")\n",
    "print(\"Additionally, no features are wholly covarying - edit count and page size have r=.69\")"
   ]
  },
  {
   "cell_type": "code",
   "execution_count": 76,
   "metadata": {
    "ExecuteTime": {
     "end_time": "2018-01-26T01:58:04.534416Z",
     "start_time": "2018-01-26T01:58:04.255934Z"
    }
   },
   "outputs": [
    {
     "data": {
      "image/png": "[encoded data removed]",
      "text/plain": [
       "<matplotlib.figure.Figure at 0x1c12dfb940>"
      ]
     },
     "metadata": {},
     "output_type": "display_data"
    }
   ],
   "source": [
    "# quick reg plot\n",
    "\n",
    "plt.figure(figsize = (15,7))\n",
    "\n",
    "plt.xlabel(\"Normalized and transformed Edit Count\")\n",
    "plt.ylabel(\"y\")\n",
    "plt.scatter(final_frame[\"Edit Count_bc\"],final_frame[\"page_views_last30_bc\"])\n",
    "plt.scatter(final_frame[\"Edit Count_bc\"],final_frame.predict)\n",
    "plt.legend();"
   ]
  },
  {
   "cell_type": "markdown",
   "metadata": {},
   "source": [
    "### Appendix: Graveyard of failed creations"
   ]
  },
  {
   "cell_type": "markdown",
   "metadata": {
    "ExecuteTime": {
     "end_time": "2018-01-25T22:05:10.121480Z",
     "start_time": "2018-01-25T22:05:10.117862Z"
    }
   },
   "source": [
    "#### Plotting"
   ]
  },
  {
   "cell_type": "code",
   "execution_count": 101,
   "metadata": {
    "ExecuteTime": {
     "end_time": "2018-01-26T02:57:44.261350Z",
     "start_time": "2018-01-26T02:57:43.934951Z"
    }
   },
   "outputs": [
    {
     "data": {
      "image/png": "[encoded data removed]",
      "text/plain": [
       "<matplotlib.figure.Figure at 0x1c13e8b4a8>"
      ]
     },
     "metadata": {},
     "output_type": "display_data"
    }
   ],
   "source": [
    "def findBestAlpha(x, y):\n",
    "    # function courtesy of Kevin\n",
    "    kf = KFold(len(x), n_folds = 5, shuffle = True)\n",
    "    \n",
    "    all_scores=[]\n",
    "    alphas=[1e-5,1e-4,1e-3,1e-2,1e-1,0,1,100]\n",
    "    \n",
    "    for train, test in kf:\n",
    "        x_train=x.iloc[train]\n",
    "        y_train=y.iloc[train]\n",
    "        x_test=x.iloc[test]\n",
    "        y_test=y.iloc[test]\n",
    "        mse_score=[]\n",
    "        r2 = []\n",
    "        for a in alphas:\n",
    "            est = make_pipeline(PolynomialFeatures(1), Lasso(alpha=a))\n",
    "            est.fit(x_train,y_train)\n",
    "            mse=np.mean((y_test-est.predict(x_test))**2)\n",
    "            mse_score.append(mse)\n",
    "            r2.append(est.score(x_test,y_test))\n",
    "            \n",
    "        all_scores.append(r2)\n",
    "    \n",
    "    plt.figure(figsize=(8,6))\n",
    "    plt.ylim(0,0.7)\n",
    "    plt.legend()\n",
    "    for i in range(5):\n",
    "        plt.plot(all_scores[i],label = 'cv %s'%i)\n",
    "\n",
    "    plt.legend()\n",
    "    plt.ylabel('R2')\n",
    "    plt.show()\n",
    "\n",
    "findBestAlpha(X2_train,y2_train)"
   ]
  },
  {
   "cell_type": "code",
   "execution_count": null,
   "metadata": {
    "ExecuteTime": {
     "end_time": "2018-01-25T23:38:26.366111Z",
     "start_time": "2018-01-25T23:38:26.162160Z"
    },
    "collapsed": true
   },
   "outputs": [],
   "source": [
    "####USING GRID SEARCH TO FIND THE BEST ALPHA/SCORE/COEFFICIENTS\n",
    "def lassoCoef(x,y):\n",
    "    alphas=[1e-5,1e-4,1e-3,1e-2,1e-1,0,1,100]\n",
    "    # create and fit a Lasso regression model, testing each alpha\n",
    "    model = Lasso()\n",
    "    grid = GridSearchCV(estimator=model, param_grid=dict(alpha=alphas), cv = 5)\n",
    "    grid.fit(x,y)\n",
    "    #print(grid)\n",
    "    # summarize the results of the grid search\n",
    "    score = grid.best_score_\n",
    "    alpha = grid.best_estimator_.alpha\n",
    "    #print(grid.best_estimator_.coef_)\n",
    "    zipped = zip(x.columns, grid.best_estimator_.coef_)\n",
    "    features = sorted(zipped, key = lambda t: t[1], reverse = True)\n",
    "    return [score, alpha, features]\n",
    "\n",
    "lassoCoef(X2,y2)"
   ]
  }
 ],
 "metadata": {
  "kernelspec": {
   "display_name": "Python 3",
   "language": "python",
   "name": "python3"
  },
  "language_info": {
   "codemirror_mode": {
    "name": "ipython",
    "version": 3
   },
   "file_extension": ".py",
   "mimetype": "text/x-python",
   "name": "python",
   "nbconvert_exporter": "python",
   "pygments_lexer": "ipython3",
   "version": "3.6.3"
  },
  "toc": {
   "nav_menu": {},
   "number_sections": true,
   "sideBar": true,
   "skip_h1_title": false,
   "toc_cell": true,
   "toc_position": {
    "height": "659px",
    "left": "0px",
    "right": "1082px",
    "top": "107px",
    "width": "354px"
   },
   "toc_section_display": "block",
   "toc_window_display": true
  },
  "varInspector": {
   "cols": {
    "lenName": 16,
    "lenType": 16,
    "lenVar": 40
   },
   "kernels_config": {
    "python": {
     "delete_cmd_postfix": "",
     "delete_cmd_prefix": "del ",
     "library": "var_list.py",
     "varRefreshCmd": "print(var_dic_list())"
    },
    "r": {
     "delete_cmd_postfix": ") ",
     "delete_cmd_prefix": "rm(",
     "library": "var_list.r",
     "varRefreshCmd": "cat(var_dic_list()) "
    }
   },
   "position": {
    "height": "411px",
    "left": "1070px",
    "right": "20px",
    "top": "121px",
    "width": "341px"
   },
   "types_to_exclude": [
    "module",
    "function",
    "builtin_function_or_method",
    "instance",
    "_Feature"
   ],
   "window_display": false
  }
 },
 "nbformat": 4,
 "nbformat_minor": 2
}
